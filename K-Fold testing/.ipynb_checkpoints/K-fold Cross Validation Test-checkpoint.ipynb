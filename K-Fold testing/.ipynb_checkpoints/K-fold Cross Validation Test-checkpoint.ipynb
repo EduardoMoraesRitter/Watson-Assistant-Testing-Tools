{
 "cells": [
  {
   "cell_type": "markdown",
   "metadata": {},
   "source": [
    "# K-fold cross-validation test for WA"
   ]
  },
  {
   "cell_type": "markdown",
   "metadata": {},
   "source": [
    "This notebook will allow the user to perform a K-fold cross validation test on your Watson Assistant workspace \n",
    "\n",
    "<div class=\"alert alert-block alert-info\">\n",
    "<b>Notebook Summary</b>\n",
    "<br>\n",
    "      \n",
    "1. <b>Connect to WA</b> : credentials to connect to the right WA workspace<br>\n",
    "2. <b>Scan the workspace</b> : download the GTs and intent labels of the entire workspace <br>\n",
    "3. <b>Test and train split</b> : divide the dataset in test and train sets<br>\n",
    "4. <b>Create k workspaces</b> : create k workspace and train it with the train-sets<br>\n",
    "5. <b>Analyse k-fold results</b> : send the test set to the right workspace and analyse the results. <br>\n",
    "6. <b>Analyse the Report</b> : focus on the performance of each intent.<br>\n",
    "7. <b>Incorrect Matches</b> : analysis of different types of incorrect matches and possible solutions<br>\n",
    "8. <b>Highlight Possible `Confused` Intents</b> : highlight possible overlapping intents<br>\n",
    "</div>\n",
    "\n",
    "\n",
    "\n",
    "## What is K-fold cross-validation test? \n",
    "The K-Fold Cross validation is any of various similar model validation techniques for assessing how the results of a statistical analysis will generalize to an independent data set. It is mainly used in settings where the goal is prediction, and one wants to estimate how accurately a predictive model will perform in practice. \n",
    "\n",
    "\n",
    "In k-fold cross-validation, the original sample is randomly partitioned into k equal sized subsamples. Of the k subsamples, a single subsample is retained as the validation data for testing the model, and the remaining k − 1 subsamples are used as training data. The cross-validation process is then repeated k times, with each of the k subsamples used exactly once as the validation data. \n",
    "\n",
    "\n",
    "<img src=\"images/cross validation 2.png\" style=\"width: 300px;\">\n",
    "\n",
    "In this particular notebook we are going to use the stratified k-fold cross validation. This is a variation of KFold that returns stratified folds. The folds are made by preserving the percentage of samples for each class. It is used for unbalanced classes (e.g. intent dimensions that are not equals). \n",
    "\n",
    "## What K-fold means in Waston Assistant? \n",
    "Using any cross validation method in Watson Assistant will provide a more accurate measure of how well your virtual agent is performing. It is recommended to use the K-fold cross validation every time that we are modifying the workspace with substantial changes (e.g. creation of a new intent etc.)"
   ]
  },
  {
   "cell_type": "markdown",
   "metadata": {},
   "source": [
    "## Libraries "
   ]
  },
  {
   "cell_type": "code",
   "execution_count": 1,
   "metadata": {},
   "outputs": [
    {
     "name": "stdout",
     "output_type": "stream",
     "text": [
      "Requirement already satisfied: msgpack in /Users/erikaagostinelli/anaconda3/lib/python3.6/site-packages (0.5.6)\n",
      "\u001b[33mYou are using pip version 10.0.1, however version 19.0.2 is available.\n",
      "You should consider upgrading via the 'pip install --upgrade pip' command.\u001b[0m\n",
      "Requirement already satisfied: watson-developer-cloud in /Users/erikaagostinelli/anaconda3/lib/python3.6/site-packages (2.0.1)\n",
      "Requirement already satisfied: requests<3.0,>=2.0 in /Users/erikaagostinelli/anaconda3/lib/python3.6/site-packages (from watson-developer-cloud) (2.18.4)\n",
      "Requirement already satisfied: websocket-client==0.47.0 in /Users/erikaagostinelli/anaconda3/lib/python3.6/site-packages (from watson-developer-cloud) (0.47.0)\n",
      "Requirement already satisfied: python-dateutil>=2.5.3 in /Users/erikaagostinelli/anaconda3/lib/python3.6/site-packages (from watson-developer-cloud) (2.7.3)\n",
      "Requirement already satisfied: chardet<3.1.0,>=3.0.2 in /Users/erikaagostinelli/anaconda3/lib/python3.6/site-packages (from requests<3.0,>=2.0->watson-developer-cloud) (3.0.4)\n",
      "Requirement already satisfied: idna<2.7,>=2.5 in /Users/erikaagostinelli/anaconda3/lib/python3.6/site-packages (from requests<3.0,>=2.0->watson-developer-cloud) (2.6)\n",
      "Requirement already satisfied: urllib3<1.23,>=1.21.1 in /Users/erikaagostinelli/anaconda3/lib/python3.6/site-packages (from requests<3.0,>=2.0->watson-developer-cloud) (1.22)\n",
      "Requirement already satisfied: certifi>=2017.4.17 in /Users/erikaagostinelli/anaconda3/lib/python3.6/site-packages (from requests<3.0,>=2.0->watson-developer-cloud) (2018.4.16)\n",
      "Requirement already satisfied: six in /Users/erikaagostinelli/anaconda3/lib/python3.6/site-packages (from websocket-client==0.47.0->watson-developer-cloud) (1.11.0)\n",
      "\u001b[33mYou are using pip version 10.0.1, however version 19.0.2 is available.\n",
      "You should consider upgrading via the 'pip install --upgrade pip' command.\u001b[0m\n"
     ]
    }
   ],
   "source": [
    "!pip install msgpack\n",
    "!pip install watson-developer-cloud\n",
    "\n",
    "import json \n",
    "import pandas as pd\n",
    "import numpy as np\n",
    "import matplotlib.pyplot as plt\n",
    "%matplotlib inline\n",
    "import warnings\n",
    "warnings.filterwarnings('ignore')\n",
    "import seaborn as sns\n",
    "from watson_developer_cloud import AssistantV1\n",
    "from IPython.display import display\n",
    "from sklearn.metrics import *\n",
    "from sklearn.model_selection import *\n",
    "import itertools"
   ]
  },
  {
   "cell_type": "markdown",
   "metadata": {},
   "source": [
    "## 1. Connect to Watson Assistant \n",
    "\n",
    "\n",
    "<div class=\"alert alert-block alert-warning\">\n",
    "\n",
    "<b>Data needed from the user</b>\n",
    "<br>\n",
    "\n",
    "    \n",
    "1. <b>Credentials to connect to WA</b> : Log in to IBM cloud, Go to your resource list, select your WA service, and Click Show Credentials - based on what credentials you have, choose option1 (IAM) or option2 (Basic) to connect to your WA instance.<br>\n",
    "2. <b>Workspace</b> : the ID of the workspace that you want to analyse. - Go to your WA instance, \"Skills\" tab, click on the three dots of the workspace/skill that you are interested, choose \"View API details\" and you will find the Workspace ID<br>\n",
    "3. <b>K-fold number</b>: usually the common used folds number is five. but in can be higher (e.g. 10) or less (i.e. 3) depending on the workspace size.<br>\n",
    "4. <b>Threshold</b>: this is the minimum level of confidence level that you are expecting in order to check if the input text is triggering the right intent. For example, if the threshold = 0.40 and the input phrase is triggering the correct intent with only 35% of confidence level, we would want to count it as a False Positive (not meeting the required conditions) and not as a True Positive, despite the intent is correct. The default in WA is 0.2. Less than 20% the utterance is classified as `irrelevant`. However, if you need to have a higher threshold it can be set here. \n",
    "</div>"
   ]
  },
  {
   "cell_type": "markdown",
   "metadata": {},
   "source": [
    "1. **IAM token**: With some service instances, you authenticate to the API by using **Identity and Access Management (IAM)** - (IBM Cloud is migrating to token-based IAM authentication). You will need `API Key`, `url` and `version`\n",
    "2. **Basic Authentication**: In other instances, you authenticate by providing the **username and password** for the service instance. You will need `username`, `password`, `url` and `version`"
   ]
  },
  {
   "cell_type": "markdown",
   "metadata": {},
   "source": [
    "**Option 1 - IAM Token**"
   ]
  },
  {
   "cell_type": "code",
   "execution_count": null,
   "metadata": {},
   "outputs": [],
   "source": [
    "assistant = AssistantV1(\n",
    "    iam_apikey='',  #USER INPUT\n",
    "    version='2018-07-10',  #USER INPUT\n",
    "    url= '') #USER INPUT  \n",
    "    # e.g. Frankfurt : 'https://gateway-fra.watsonplatform.net/assistant/api'\n",
    "    # e.g. US-South : 'https://gateway.watsonplatform.net/assistant/api'\n",
    "\n",
    "workspace = '' #USER INPUT\n",
    "k_fold_number = 5 #USER INPUT \n",
    "threshold = 0.4   #USER INPUT "
   ]
  },
  {
   "cell_type": "markdown",
   "metadata": {},
   "source": [
    "**Option 2 - Basic Authentication**"
   ]
  },
  {
   "cell_type": "code",
   "execution_count": 2,
   "metadata": {},
   "outputs": [],
   "source": [
    "assistant = AssistantV1(\n",
    "    username='',  #USER INPUT\n",
    "    password='', #USER INPUT\n",
    "    version='2018-07-10',  #USER INPUT\n",
    "    url= '') #USER INPUT  \n",
    "    # e.g. Frankfurt : 'https://gateway-fra.watsonplatform.net/assistant/api'\n",
    "    # e.g. US-South: 'https://gateway.watsonplatform.net/assistant/api'\n",
    "\n",
    "workspace = '' #USER INPUT\n",
    "k_fold_number = 5 #USER INPUT \n",
    "threshold = 0.4   #USER INPUT "
   ]
  },
  {
   "cell_type": "markdown",
   "metadata": {},
   "source": [
    "### Let's test if everything is working correclty"
   ]
  },
  {
   "cell_type": "code",
   "execution_count": 3,
   "metadata": {},
   "outputs": [
    {
     "name": "stdout",
     "output_type": "stream",
     "text": [
      "{\n",
      "  \"intents\": [\n",
      "    {\n",
      "      \"intent\": \"General_Greetings\",\n",
      "      \"confidence\": 1\n",
      "    },\n",
      "    {\n",
      "      \"intent\": \"General_Negative_Feedback\",\n",
      "      \"confidence\": 0\n",
      "    },\n",
      "    {\n",
      "      \"intent\": \"General_Security_Assurance\",\n",
      "      \"confidence\": 0\n",
      "    },\n",
      "    {\n",
      "      \"intent\": \"location\",\n",
      "      \"confidence\": 0\n",
      "    },\n",
      "    {\n",
      "      \"intent\": \"pizza\",\n",
      "      \"confidence\": 0\n",
      "    },\n",
      "    {\n",
      "      \"intent\": \"Bot_Control_Approve_Response\",\n",
      "      \"confidence\": 0\n",
      "    },\n",
      "    {\n",
      "      \"intent\": \"Bot_Control_Reject_Response\",\n",
      "      \"confidence\": 0\n",
      "    },\n",
      "    {\n",
      "      \"intent\": \"General_About_You\",\n",
      "      \"confidence\": 0\n",
      "    },\n",
      "    {\n",
      "      \"intent\": \"Bot_Control_Unsure\",\n",
      "      \"confidence\": 0\n",
      "    },\n",
      "    {\n",
      "      \"intent\": \"turn-right\",\n",
      "      \"confidence\": 0\n",
      "    }\n",
      "  ],\n",
      "  \"entities\": [],\n",
      "  \"input\": {\n",
      "    \"text\": \"Hello!\"\n",
      "  },\n",
      "  \"output\": {\n",
      "    \"generic\": [\n",
      "      {\n",
      "        \"response_type\": \"text\",\n",
      "        \"text\": \"whatever\"\n",
      "      }\n",
      "    ],\n",
      "    \"text\": [\n",
      "      \"whatever\"\n",
      "    ],\n",
      "    \"nodes_visited\": [\n",
      "      \"node_1_1538042731108\",\n",
      "      \"node_9_1538056293400\"\n",
      "    ],\n",
      "    \"log_messages\": []\n",
      "  },\n",
      "  \"context\": {\n",
      "    \"conversation_id\": \"3f8e6f40-2d8a-4783-bc7d-02d470e3773e\",\n",
      "    \"system\": {\n",
      "      \"initialized\": true,\n",
      "      \"dialog_stack\": [\n",
      "        {\n",
      "          \"dialog_node\": \"root\"\n",
      "        }\n",
      "      ],\n",
      "      \"dialog_turn_counter\": 1,\n",
      "      \"dialog_request_counter\": 1,\n",
      "      \"_node_output_map\": {\n",
      "        \"node_9_1538056293400\": [\n",
      "          0\n",
      "        ]\n",
      "      },\n",
      "      \"branch_exited\": true,\n",
      "      \"branch_exited_reason\": \"completed\"\n",
      "    }\n",
      "  },\n",
      "  \"alternate_intents\": true\n",
      "}\n",
      "intent detected:  General_Greetings and the confidence level of the intent is : 1\n",
      "success\n"
     ]
    }
   ],
   "source": [
    "response = assistant.message(workspace_id=workspace, input={'text': 'Hello!'}, \n",
    "                             alternate_intents= True)\n",
    "dumps = json.dumps(response.get_result(), indent=2)\n",
    "print(dumps)\n",
    "\n",
    "data = json.loads(dumps)\n",
    "intent= data['intents'][0]['intent']\n",
    "confidence = data['intents'][0]['confidence']\n",
    "print(\"intent detected: \", intent, \"and the confidence level of the intent is :\", confidence)\n",
    "print('success')"
   ]
  },
  {
   "cell_type": "markdown",
   "metadata": {},
   "source": [
    "## 2. Scan the workspace \n",
    "There are two possible ways to do this: \n",
    "1. **Option 1** : Download the workspace in Json format and feed the file by using the cell starting with \"## FROM JSON FILE\" - the file needs to be in 'data' folder in the same directory of the notebook.   \n",
    "2. **Option 2** : Scan the workspace by usign API calls and creating a dataframe - Use the script starting with \"##API CALLS\"\n",
    "\n",
    "### What is the Ground Truth (GT)? \n",
    "The complete Ground Truth (GT) which is the collection of all the training sentences of your workspace (of all intents) represents your whole dataset. It's your starting point. \n",
    "You should be able to create the dataframe named `df`. "
   ]
  },
  {
   "cell_type": "markdown",
   "metadata": {},
   "source": [
    "### Option 1 - from Json file \n",
    "You need to download the workspace in Json format. The reading process is faster than option 2. "
   ]
  },
  {
   "cell_type": "code",
   "execution_count": null,
   "metadata": {},
   "outputs": [],
   "source": [
    "## FROM JSON FILE \n",
    "\n",
    "import json\n",
    "from pprint import pprint\n",
    "\n",
    "with open('./data/test_erika.json') as f: # USER INPUT - CHANGE THE FILE NAME HERE\n",
    "    data = json.load(f)\n",
    "\n",
    "def from_json(data):\n",
    "    \"\"\"\n",
    "    retrieve the whole workspaces from json \n",
    "    \"\"\"\n",
    "    df2 = pd.DataFrame(columns = ['intent', 'text'])\n",
    "    \n",
    "    for i in range(len(data['intents'])):\n",
    "        print(\"Scanned intent: {}\".format(data['intents'][i]['intent']))\n",
    "        for j in range(len(data['intents'][i]['examples'])):\n",
    "            df2 = df2.append({'intent': data['intents'][i]['intent'],\n",
    "                        'text': data['intents'][i]['examples'][j]['text']}\n",
    "                       ,ignore_index=True)\n",
    "    return df2 \n",
    "\n",
    "df = from_json(data)"
   ]
  },
  {
   "cell_type": "markdown",
   "metadata": {},
   "source": [
    "### Option 2 - using API calls \n",
    "The reading process is slower than Option 1 but you can directly create the dataframe `df` without the need to download/upload any file.  "
   ]
  },
  {
   "cell_type": "code",
   "execution_count": 4,
   "metadata": {},
   "outputs": [
    {
     "name": "stdout",
     "output_type": "stream",
     "text": [
      "Scanned intent:  Bot_Control_Approve_Response\n",
      "Scanned intent:  Bot_Control_Change_Subject\n",
      "Scanned intent:  Bot_Control_Clarification\n",
      "Scanned intent:  Bot_Control_Confirm_Presence\n",
      "Scanned intent:  Bot_Control_Ignore_Undo\n",
      "Scanned intent:  Bot_Control_Reject_Response\n",
      "Scanned intent:  Bot_Control_Standby\n",
      "Scanned intent:  Bot_Control_Start_Over\n",
      "Scanned intent:  Bot_Control_Unsure\n",
      "Scanned intent:  General_About_You\n",
      "Scanned intent:  General_Agent_Capabilities\n",
      "Scanned intent:  General_Connect_to_Agent\n",
      "Scanned intent:  General_Ending\n",
      "Scanned intent:  General_Greetings\n",
      "Scanned intent:  General_Human_or_Bot\n",
      "Scanned intent:  General_Jokes\n",
      "Scanned intent:  General_Negative_Feedback\n",
      "Scanned intent:  General_Positive_Feedback\n",
      "Scanned intent:  General_Security_Assurance\n",
      "Scanned intent:  help\n",
      "Scanned intent:  location\n",
      "Scanned intent:  mission\n",
      "Scanned intent:  pizza\n",
      "Scanned intent:  toppings\n",
      "Scanned intent:  turn-right\n"
     ]
    }
   ],
   "source": [
    "## API CALLS\n",
    "\n",
    "intents = []\n",
    "examples = []\n",
    "\n",
    "def from_API():\n",
    "    \"\"\"\n",
    "    the function will read the workspace via API and create the initial dataframe `df`\n",
    "    \"\"\"\n",
    "    # Call WA to ge the list of the intents \n",
    "    response = assistant.list_intents(workspace_id = workspace, )\n",
    "    obj = json.dumps(response.get_result(), indent=2)\n",
    "    data = json.loads(obj)\n",
    "    \n",
    "    df = pd.DataFrame(columns = ['intent','text'])\n",
    "    \n",
    "    for i in range(len(data[\"intents\"])): \n",
    "        name_intent = data[\"intents\"][i][\"intent\"]\n",
    "\n",
    "        # Call WA to get the list of Examples of each intent \n",
    "        response = assistant.list_examples(workspace_id = workspace, intent = name_intent)\n",
    "        dumps = json.dumps(response.get_result(), indent=2)\n",
    "        data_examples = json.loads(dumps)\n",
    "\n",
    "        # get the Groud Truth (examples test) of each intent \n",
    "        for j in range(len(data_examples[\"examples\"])): \n",
    "            text = data_examples[\"examples\"][j][\"text\"]\n",
    "            df = df.append({'intent':name_intent,'text': text},ignore_index=True)\n",
    "        \n",
    "        print (\"Scanned intent: \" , name_intent )\n",
    "    \n",
    "    return df \n",
    "\n",
    "df = from_API()"
   ]
  },
  {
   "cell_type": "code",
   "execution_count": 5,
   "metadata": {},
   "outputs": [
    {
     "data": {
      "text/html": [
       "<div>\n",
       "<style scoped>\n",
       "    .dataframe tbody tr th:only-of-type {\n",
       "        vertical-align: middle;\n",
       "    }\n",
       "\n",
       "    .dataframe tbody tr th {\n",
       "        vertical-align: top;\n",
       "    }\n",
       "\n",
       "    .dataframe thead th {\n",
       "        text-align: right;\n",
       "    }\n",
       "</style>\n",
       "<table border=\"1\" class=\"dataframe\">\n",
       "  <thead>\n",
       "    <tr style=\"text-align: right;\">\n",
       "      <th></th>\n",
       "      <th>text</th>\n",
       "    </tr>\n",
       "    <tr>\n",
       "      <th>intent</th>\n",
       "      <th></th>\n",
       "    </tr>\n",
       "  </thead>\n",
       "  <tbody>\n",
       "    <tr>\n",
       "      <th>Bot_Control_Approve_Response</th>\n",
       "      <td>20</td>\n",
       "    </tr>\n",
       "    <tr>\n",
       "      <th>Bot_Control_Change_Subject</th>\n",
       "      <td>12</td>\n",
       "    </tr>\n",
       "    <tr>\n",
       "      <th>Bot_Control_Clarification</th>\n",
       "      <td>16</td>\n",
       "    </tr>\n",
       "    <tr>\n",
       "      <th>Bot_Control_Confirm_Presence</th>\n",
       "      <td>16</td>\n",
       "    </tr>\n",
       "    <tr>\n",
       "      <th>Bot_Control_Ignore_Undo</th>\n",
       "      <td>12</td>\n",
       "    </tr>\n",
       "    <tr>\n",
       "      <th>Bot_Control_Reject_Response</th>\n",
       "      <td>18</td>\n",
       "    </tr>\n",
       "    <tr>\n",
       "      <th>Bot_Control_Standby</th>\n",
       "      <td>20</td>\n",
       "    </tr>\n",
       "    <tr>\n",
       "      <th>Bot_Control_Start_Over</th>\n",
       "      <td>20</td>\n",
       "    </tr>\n",
       "    <tr>\n",
       "      <th>Bot_Control_Unsure</th>\n",
       "      <td>12</td>\n",
       "    </tr>\n",
       "    <tr>\n",
       "      <th>General_About_You</th>\n",
       "      <td>20</td>\n",
       "    </tr>\n",
       "    <tr>\n",
       "      <th>General_Agent_Capabilities</th>\n",
       "      <td>31</td>\n",
       "    </tr>\n",
       "    <tr>\n",
       "      <th>General_Connect_to_Agent</th>\n",
       "      <td>38</td>\n",
       "    </tr>\n",
       "    <tr>\n",
       "      <th>General_Ending</th>\n",
       "      <td>36</td>\n",
       "    </tr>\n",
       "    <tr>\n",
       "      <th>General_Greetings</th>\n",
       "      <td>27</td>\n",
       "    </tr>\n",
       "    <tr>\n",
       "      <th>General_Human_or_Bot</th>\n",
       "      <td>12</td>\n",
       "    </tr>\n",
       "    <tr>\n",
       "      <th>General_Jokes</th>\n",
       "      <td>17</td>\n",
       "    </tr>\n",
       "    <tr>\n",
       "      <th>General_Negative_Feedback</th>\n",
       "      <td>20</td>\n",
       "    </tr>\n",
       "    <tr>\n",
       "      <th>General_Positive_Feedback</th>\n",
       "      <td>19</td>\n",
       "    </tr>\n",
       "    <tr>\n",
       "      <th>General_Security_Assurance</th>\n",
       "      <td>26</td>\n",
       "    </tr>\n",
       "    <tr>\n",
       "      <th>help</th>\n",
       "      <td>5</td>\n",
       "    </tr>\n",
       "    <tr>\n",
       "      <th>location</th>\n",
       "      <td>5</td>\n",
       "    </tr>\n",
       "    <tr>\n",
       "      <th>mission</th>\n",
       "      <td>5</td>\n",
       "    </tr>\n",
       "    <tr>\n",
       "      <th>pizza</th>\n",
       "      <td>5</td>\n",
       "    </tr>\n",
       "    <tr>\n",
       "      <th>toppings</th>\n",
       "      <td>7</td>\n",
       "    </tr>\n",
       "    <tr>\n",
       "      <th>turn-right</th>\n",
       "      <td>5</td>\n",
       "    </tr>\n",
       "  </tbody>\n",
       "</table>\n",
       "</div>"
      ],
      "text/plain": [
       "                              text\n",
       "intent                            \n",
       "Bot_Control_Approve_Response    20\n",
       "Bot_Control_Change_Subject      12\n",
       "Bot_Control_Clarification       16\n",
       "Bot_Control_Confirm_Presence    16\n",
       "Bot_Control_Ignore_Undo         12\n",
       "Bot_Control_Reject_Response     18\n",
       "Bot_Control_Standby             20\n",
       "Bot_Control_Start_Over          20\n",
       "Bot_Control_Unsure              12\n",
       "General_About_You               20\n",
       "General_Agent_Capabilities      31\n",
       "General_Connect_to_Agent        38\n",
       "General_Ending                  36\n",
       "General_Greetings               27\n",
       "General_Human_or_Bot            12\n",
       "General_Jokes                   17\n",
       "General_Negative_Feedback       20\n",
       "General_Positive_Feedback       19\n",
       "General_Security_Assurance      26\n",
       "help                             5\n",
       "location                         5\n",
       "mission                          5\n",
       "pizza                            5\n",
       "toppings                         7\n",
       "turn-right                       5"
      ]
     },
     "execution_count": 5,
     "metadata": {},
     "output_type": "execute_result"
    }
   ],
   "source": [
    "# check how many utterances per intent you have - You should have at least 5 per intent \n",
    "df.groupby('intent').count()"
   ]
  },
  {
   "cell_type": "markdown",
   "metadata": {},
   "source": [
    "## 3. Train and Test Split\n",
    "We are going to use the [Stratified k-fold split](http://scikit-learn.org/stable/modules/generated/sklearn.model_selection.StratifiedKFold.html)\n",
    "\n",
    "The reason is that we want to make sure that each intent dimension is represented correctly in each train sets. \n",
    "\n",
    "Each fold needs to contain a test and a train set. The peculiarity of the k-fold is that the test sets will not overlap. Therefore it's important to keep track of each fold because they will be then used to create the k workspace in WA. "
   ]
  },
  {
   "cell_type": "code",
   "execution_count": 6,
   "metadata": {},
   "outputs": [],
   "source": [
    "def create_folds(df):\n",
    "    \"\"\"\n",
    "    create the folds for the k-fold test. It is using the Stratifies K-fold division. \n",
    "    \n",
    "    :param df: the dataframe containing the whole GT of the workspace \n",
    "    :return folds: a list of folds containing for each fold the train and test set indexes. \n",
    "    \"\"\"\n",
    "    folds = []\n",
    "    i = 0\n",
    "    skf = StratifiedKFold(n_splits = k_fold_number, shuffle = True, random_state = 2)\n",
    "    for train_index, test_index in skf.split(df['text'], df['intent']):\n",
    "        fold = {\"train\": train_index,\n",
    "                \"test\": test_index}\n",
    "        folds.append(fold)\n",
    "        print(\"fold num {}: train set: {}, test set: {}\".format(i+1,len(folds[i][\"train\"]), len(folds[i][\"test\"])))\n",
    "        i += 1\n",
    "    \n",
    "    return folds"
   ]
  },
  {
   "cell_type": "markdown",
   "metadata": {},
   "source": [
    "## 4. Create k workspaces: \n",
    "We want to use the folds generated previously to create the new k workspaces. \n",
    "In a `standard` instance of Watson Assistant you should have the default limit of 20 workspaces per instance. "
   ]
  },
  {
   "cell_type": "code",
   "execution_count": 7,
   "metadata": {},
   "outputs": [
    {
     "name": "stdout",
     "output_type": "stream",
     "text": [
      "You have space to perform the k-fold test\n"
     ]
    }
   ],
   "source": [
    "def count_workspaces():\n",
    "    \"\"\"\n",
    "    counting the existing workspaces and check if there is space for k-workspaces \n",
    "    \"\"\"\n",
    "    response = assistant.list_workspaces().get_result()\n",
    "    \n",
    "    if(len(response['workspaces'])+k_fold_number <=20):\n",
    "        print(\"You have space to perform the k-fold test\")\n",
    "    else: \n",
    "        remove = len(response['workspaces'])+k_fold_number-20\n",
    "        print(\"Be careful! The K-fold test will make you exceed the 20 workspaces limit.\")\n",
    "        print(\"Make sure to remove {} workspaces before creating the k-fold workspaces\".format(remove))\n",
    "    return \n",
    "\n",
    "count_workspaces()"
   ]
  },
  {
   "cell_type": "markdown",
   "metadata": {},
   "source": [
    "In order to limit the amount of API calls during this process we would like to create all the intents and utterances in the same moment that we are creating the workspace. \n",
    "\n",
    "### Note : For NON-ENGLISH Workspaces\n",
    "Make sure to change the language of the workspace `language = 'xx'` in __create_workspace__ function. "
   ]
  },
  {
   "cell_type": "code",
   "execution_count": 8,
   "metadata": {},
   "outputs": [
    {
     "name": "stdout",
     "output_type": "stream",
     "text": [
      "fold num 1: train set: 330, test set: 94\n",
      "fold num 2: train set: 335, test set: 89\n",
      "fold num 3: train set: 342, test set: 82\n",
      "fold num 4: train set: 344, test set: 80\n",
      "fold num 5: train set: 345, test set: 79\n",
      "creating K-FOLD workspace 1 out of 5\n",
      "creating K-FOLD workspace 2 out of 5\n",
      "creating K-FOLD workspace 3 out of 5\n",
      "creating K-FOLD workspace 4 out of 5\n",
      "creating K-FOLD workspace 5 out of 5\n"
     ]
    }
   ],
   "source": [
    "def create_intents(train_index):\n",
    "    \"\"\"\n",
    "    It collects the intents in json format to send when creating the workspace \n",
    "        \n",
    "    :param train_index: that are the results of the 'create_folds' function\n",
    "    :return intent_results: if a list of dictionaries that will be sent when new workspace will be created\n",
    "    \"\"\"\n",
    "    \n",
    "    intent_results = []\n",
    "    for i in train_index:\n",
    "        row = {}\n",
    "        text = df.iloc[i]['text']\n",
    "        intent = df.iloc[i]['intent']\n",
    "\n",
    "        if not any(d['intent'] == intent for d in intent_results):\n",
    "            row = { 'intent': intent, \n",
    "                    'examples': [ {'text': text } ] } \n",
    "        else:\n",
    "            row = [d for d in intent_results if d.get('intent') == intent][0]\n",
    "            intent_results[:] = [d for d in intent_results if d.get('intent') != intent]\n",
    "            e = {'text': text}\n",
    "            row['examples'].append(e)\n",
    "\n",
    "        intent_results.append(row)\n",
    "    \n",
    "    return intent_results\n",
    "\n",
    "\n",
    "\n",
    "\n",
    "def create_workspace(intents_json, fold_number):\n",
    "    \"\"\"\n",
    "    create one workspace \n",
    "    \n",
    "    :param intent_json : output of the 'create_intents' function\n",
    "    :param fold_number: the number of the fold  \n",
    "    :return workspace_id: the id of the workspace that has been generated\n",
    "    \"\"\"\n",
    "    response = assistant.create_workspace(\n",
    "        name='K_FOLD test {}'.format(fold_number+1),\n",
    "        #language = 'en'   # CHANGE LANGUAGE HERE (Default is 'en')\n",
    "        description='workspace created for k-fold testing', \n",
    "        intents = intents_json\n",
    "    ).get_result()\n",
    "    \n",
    "    workspace_id = response.get('workspace_id')\n",
    "    \n",
    "    return workspace_id\n",
    "\n",
    "\n",
    "\n",
    "\n",
    "def create_kfold_WA(folds):\n",
    "    \"\"\"\n",
    "    create the k-fold workspaces in WA\n",
    "    \n",
    "    :param folds: are the folds created in the function `create_folds`\n",
    "    :return workspaces: is a list of workspaces ID generated \n",
    "    \"\"\"\n",
    "    workspaces = []\n",
    "    for i in range(len(folds)):\n",
    "        print(\"creating K-FOLD workspace {} out of {}\".format(i+1, len(folds)))\n",
    "        train = folds[i][\"train\"]\n",
    "        intents = create_intents(train)\n",
    "        workspace_id = create_workspace(intents, i)\n",
    "        workspaces.append(workspace_id)\n",
    "    \n",
    "    return workspaces\n",
    "\n",
    "folds = create_folds(df)\n",
    "workspaces = create_kfold_WA(folds)"
   ]
  },
  {
   "cell_type": "markdown",
   "metadata": {},
   "source": [
    "### Check the status \n",
    "Before performing any test, we need to make sure that the workspaces have finished training. You can check the status using the cell below. "
   ]
  },
  {
   "cell_type": "code",
   "execution_count": 10,
   "metadata": {},
   "outputs": [
    {
     "name": "stdout",
     "output_type": "stream",
     "text": [
      "Fold number:1 (d34f5eb3-d60c-4e69-ab65-f423283966c4), Workspace is Available\n",
      "Fold number:2 (2fdc2069-5523-4bca-b25f-f5e4e375e097), Workspace is Available\n",
      "Fold number:3 (6e22e5eb-6071-4475-ab9e-ec340cf77213), Workspace is Available\n",
      "Fold number:4 (74f8b1b4-7a01-4271-b139-2c5e4bd15545), Workspace is Available\n",
      "Fold number:5 (cc6201c1-9840-4c0f-a6d8-5f6336f2d834), Workspace is Available\n"
     ]
    }
   ],
   "source": [
    "def check_status(workspaces): \n",
    "    \"\"\"\n",
    "    check the status of the workspace just created - You can start the k-fold only when \n",
    "    the workspaces are `Available` and not in Training mode. \n",
    "    \"\"\"\n",
    "    for i in range(len(workspaces)):\n",
    "        response = assistant.get_workspace(workspace_id = workspaces[i]).get_result()\n",
    "        status = response['status']\n",
    "        print(\"Fold number:{} ({}), Workspace is {}\".format(i+1,workspaces[i], status))\n",
    "        # The status can be: unavailable, training, non-existent, failed \n",
    "        if (status != 'Available'):\n",
    "            print(\"The workspace is not available - check the details\")\n",
    "    return \n",
    "\n",
    "check_status(workspaces)"
   ]
  },
  {
   "cell_type": "code",
   "execution_count": 11,
   "metadata": {},
   "outputs": [
    {
     "name": "stdout",
     "output_type": "stream",
     "text": [
      "\n",
      "\n",
      "RUNNING K-FOLD FOR FOLD NUMBER 1\n",
      "..........10\n",
      "..........20\n",
      "..........30\n",
      "..........40\n",
      "..........50\n",
      "..........60\n",
      "..........70\n",
      "..........80\n",
      "..........90\n",
      "...\n",
      "\n",
      "RUNNING K-FOLD FOR FOLD NUMBER 2\n",
      "..........10\n",
      "..........20\n",
      "..........30\n",
      "..........40\n",
      "..........50\n",
      "..........60\n",
      "..........70\n",
      "..........80\n",
      "........\n",
      "\n",
      "RUNNING K-FOLD FOR FOLD NUMBER 3\n",
      "..........10\n",
      "..........20\n",
      "..........30\n",
      "..........40\n",
      "..........50\n",
      "..........60\n",
      "..........70\n",
      "..........80\n",
      ".\n",
      "\n",
      "RUNNING K-FOLD FOR FOLD NUMBER 4\n",
      "..........10\n",
      "..........20\n",
      "..........30\n",
      "..........40\n",
      "..........50\n",
      "..........60\n",
      "..........70\n",
      ".........\n",
      "\n",
      "RUNNING K-FOLD FOR FOLD NUMBER 5\n",
      "..........10\n",
      "..........20\n",
      "..........30\n",
      "..........40\n",
      "..........50\n",
      "..........60\n",
      "..........70\n",
      "........\n",
      "\n",
      "FINISHED\n"
     ]
    }
   ],
   "source": [
    "def test_kfold(df_test, ws_id):\n",
    "    \"\"\"\n",
    "    This function will take the regression test uploaded in csv and will send each phrase to WA and collect \n",
    "    information on how the system responded. \n",
    "    \n",
    "    :param df_test: the dataframe containing the testing phrases \n",
    "    :param ws-id: the index of the fold that would be used to call the correct workspace id that needs to be test \n",
    "    :return results: a pandas dataframe with original text, predicted intent and also the results from WA\n",
    "    \"\"\"\n",
    "    results = pd.DataFrame([],columns = ['original_text','predicted_intent','actual_intent1',\n",
    "                           'actual_confidence1','actual_intent2','actual_confidence2','actual_intent3',\n",
    "                           'actual_confidence3'])\n",
    "\n",
    "    for i in range(len(df_test)):\n",
    "\n",
    "        text = df_test['text'][i]\n",
    "\n",
    "        response = assistant.message(workspace_id=workspaces[ws_id], input={'text': text}, alternate_intents= True)\n",
    "        dumps = json.dumps(response.get_result(), indent=2)\n",
    "        if i != 0:\n",
    "            print('.',end='')\n",
    "            if i % 10 == 0: \n",
    "                print(i)\n",
    "\n",
    "        data = json.loads(dumps)\n",
    "\n",
    "        intent1= data['intents'][0]['intent']\n",
    "        intent2= data['intents'][1]['intent']\n",
    "        intent3= data['intents'][2]['intent']\n",
    "        confidence1 = data['intents'][0]['confidence']\n",
    "        confidence2 = data['intents'][1]['confidence']\n",
    "        confidence3 = data['intents'][2]['confidence']\n",
    "\n",
    "        results = results.append({\n",
    "                'original_text': df_test[\"text\"][i],\n",
    "                'predicted_intent': df_test[\"intent\"][i],\n",
    "                'actual_intent1': intent1, \n",
    "                'actual_confidence1':confidence1, \n",
    "                'actual_intent2':intent2, \n",
    "                'actual_confidence2': confidence2, \n",
    "                'actual_intent3': intent3,\n",
    "                'actual_confidence3': confidence3, \n",
    "            }, ignore_index=True)\n",
    "        \n",
    "    results.to_csv(\"./results/kfold_{}_raw.csv\".format(ws_id+1), encoding='utf-8')\n",
    "    \n",
    "    return results\n",
    "\n",
    "\n",
    "\n",
    "def run_kfold_test(folds):\n",
    "    \"\"\"\n",
    "    run the k-fold test. It is going to take folds as input and it will send the test dataframes to the right\n",
    "    workspaces. \n",
    "    \n",
    "    :param folds: output list from the function `create_folds`\n",
    "    :return test_results: is list of results (dataframes) for each fold.  \n",
    "    \"\"\"\n",
    "    test_results = []\n",
    "    for i in range(len(folds)):\n",
    "        print(\"\\n\")\n",
    "        print(\"RUNNING K-FOLD FOR FOLD NUMBER {}\".format(i+1))\n",
    "        test_index = folds[i]['test']\n",
    "        df_test = df.iloc[test_index]\n",
    "        df_test_reindexed = df_test.reset_index()\n",
    "        results = test_kfold(df_test_reindexed, i)\n",
    "        test_results.append(results)\n",
    "    print(\"\\n\")\n",
    "    print(\"FINISHED\")\n",
    "        \n",
    "    return test_results\n",
    "\n",
    "results_kfold = run_kfold_test(folds)"
   ]
  },
  {
   "cell_type": "markdown",
   "metadata": {},
   "source": [
    "--------------"
   ]
  },
  {
   "cell_type": "markdown",
   "metadata": {},
   "source": [
    "## 5. Analyse the results \n",
    "Once we have the results for each fold, it's time to analyse the results. Let's prepare the data. \n",
    "\n"
   ]
  },
  {
   "cell_type": "code",
   "execution_count": 12,
   "metadata": {},
   "outputs": [],
   "source": [
    "def data_prep(dataframe):\n",
    "    \"\"\"\n",
    "    this function prepares the dataframe. We are adding a new column called \"actual_intent_correct\" \n",
    "    if the intent1 is triggered with less than x% of confidence level (determined in `threshold`) then \n",
    "    the value will be put to zero.\n",
    "    \n",
    "    :param dataframe: it is the dataframe to wrangle \n",
    "    \"\"\"\n",
    "    \n",
    "    dataframe[\"actual_intent_correct\"] = dataframe[\"actual_intent1\"]\n",
    "    dataframe[\"actual_intent_correct\"] = np.where((dataframe[\"actual_confidence1\"]<threshold),\\\n",
    "                                                  \"BELOW_THRESHOLD\", dataframe[\"actual_intent1\"])\n",
    "    return dataframe"
   ]
  },
  {
   "cell_type": "markdown",
   "metadata": {},
   "source": [
    "### Collection of Metrics\n",
    "\n",
    "      \n",
    "1. **Accuracy** : In multilabel classification, this function computes subset accuracy, the set of labels predicted for a sample must exactly match the corresponding set of labels in _y_true_.\n",
    "2. **Precision** : The precision is the ratio _tp / (tp + fp)_ where tp is the number of _true positives_ and fp the number of _false positives_. The precision is intuitively the ability of the classifier not to label as positive a sample that is actually negative.\n",
    "3. **Recall** : The recall is the ratio _tp / (tp + fn)_ where tp is the number of _true positives_ and fn the number of _false negatives_. The recall is intuitively the ability of the classifier to find all positive samples. \n",
    "4. **F-score** : The F-beta score can be interpreted as a weighted harmonic mean of the precision and recall, where an F-beta score reaches its best value at 1 and worst score at 0. The F-beta score weighs recall more than precision by a factor of beta. A value of beta == 1.0 means recall and precision are equally important.\n",
    "\n",
    "[precision_recall_fscore_support function](http://scikit-learn.org/stable/modules/generated/sklearn.metrics.precision_recall_fscore_support.html#sklearn.metrics.precision_recall_fscore_support)\n"
   ]
  },
  {
   "cell_type": "code",
   "execution_count": 17,
   "metadata": {},
   "outputs": [
    {
     "data": {
      "text/html": [
       "<div>\n",
       "<style scoped>\n",
       "    .dataframe tbody tr th:only-of-type {\n",
       "        vertical-align: middle;\n",
       "    }\n",
       "\n",
       "    .dataframe tbody tr th {\n",
       "        vertical-align: top;\n",
       "    }\n",
       "\n",
       "    .dataframe thead th {\n",
       "        text-align: right;\n",
       "    }\n",
       "</style>\n",
       "<table border=\"1\" class=\"dataframe\">\n",
       "  <thead>\n",
       "    <tr style=\"text-align: right;\">\n",
       "      <th></th>\n",
       "      <th>fold</th>\n",
       "      <th>total_tested</th>\n",
       "      <th>incorrect</th>\n",
       "      <th>accuracy</th>\n",
       "      <th>precision</th>\n",
       "      <th>recall</th>\n",
       "      <th>fscore</th>\n",
       "      <th>incorrect_avg_confidence</th>\n",
       "    </tr>\n",
       "  </thead>\n",
       "  <tbody>\n",
       "    <tr>\n",
       "      <th>0</th>\n",
       "      <td>1.0</td>\n",
       "      <td>94.0</td>\n",
       "      <td>25.0</td>\n",
       "      <td>0.734043</td>\n",
       "      <td>0.732333</td>\n",
       "      <td>0.734043</td>\n",
       "      <td>0.713158</td>\n",
       "      <td>0.482634</td>\n",
       "    </tr>\n",
       "    <tr>\n",
       "      <th>1</th>\n",
       "      <td>2.0</td>\n",
       "      <td>89.0</td>\n",
       "      <td>25.0</td>\n",
       "      <td>0.719101</td>\n",
       "      <td>0.710273</td>\n",
       "      <td>0.719101</td>\n",
       "      <td>0.698349</td>\n",
       "      <td>0.568863</td>\n",
       "    </tr>\n",
       "    <tr>\n",
       "      <th>2</th>\n",
       "      <td>3.0</td>\n",
       "      <td>82.0</td>\n",
       "      <td>28.0</td>\n",
       "      <td>0.658537</td>\n",
       "      <td>0.679036</td>\n",
       "      <td>0.658537</td>\n",
       "      <td>0.660493</td>\n",
       "      <td>0.585934</td>\n",
       "    </tr>\n",
       "    <tr>\n",
       "      <th>3</th>\n",
       "      <td>4.0</td>\n",
       "      <td>80.0</td>\n",
       "      <td>25.0</td>\n",
       "      <td>0.687500</td>\n",
       "      <td>0.707440</td>\n",
       "      <td>0.687500</td>\n",
       "      <td>0.684466</td>\n",
       "      <td>0.572824</td>\n",
       "    </tr>\n",
       "    <tr>\n",
       "      <th>4</th>\n",
       "      <td>5.0</td>\n",
       "      <td>79.0</td>\n",
       "      <td>22.0</td>\n",
       "      <td>0.721519</td>\n",
       "      <td>0.714195</td>\n",
       "      <td>0.721519</td>\n",
       "      <td>0.701867</td>\n",
       "      <td>0.528103</td>\n",
       "    </tr>\n",
       "  </tbody>\n",
       "</table>\n",
       "</div>"
      ],
      "text/plain": [
       "   fold  total_tested  incorrect  accuracy  precision    recall    fscore  \\\n",
       "0   1.0          94.0       25.0  0.734043   0.732333  0.734043  0.713158   \n",
       "1   2.0          89.0       25.0  0.719101   0.710273  0.719101  0.698349   \n",
       "2   3.0          82.0       28.0  0.658537   0.679036  0.658537  0.660493   \n",
       "3   4.0          80.0       25.0  0.687500   0.707440  0.687500  0.684466   \n",
       "4   5.0          79.0       22.0  0.721519   0.714195  0.721519  0.701867   \n",
       "\n",
       "   incorrect_avg_confidence  \n",
       "0                  0.482634  \n",
       "1                  0.568863  \n",
       "2                  0.585934  \n",
       "3                  0.572824  \n",
       "4                  0.528103  "
      ]
     },
     "execution_count": 17,
     "metadata": {},
     "output_type": "execute_result"
    }
   ],
   "source": [
    "import warnings\n",
    "warnings.filterwarnings('ignore')\n",
    "\n",
    "def define_metrics(results_kfold):\n",
    "    \"\"\"\n",
    "    define the metrics of the k-fold\n",
    "    \n",
    "    :param results_kfold: is the list of results coming from `run_kfold_test` function\n",
    "    :return result_table: is the dataframe containing the metrics for each fold. \n",
    "    \"\"\"\n",
    "    result_table = pd.DataFrame([],columns=[\"fold\",\"total_tested\",\"incorrect\",\"accuracy\", \"precision\",\"recall\",\"fscore\"])\n",
    "\n",
    "    for i in range(len(results_kfold)):\n",
    "        data = data_prep(results_kfold[i])\n",
    "        incorrect_n = data.loc[data['actual_intent_correct']!=data[\"predicted_intent\"]]\n",
    "        incorrect_avg_conf = incorrect_n['actual_confidence1'].mean()\n",
    "        precision,recall,fscore,support=precision_recall_fscore_support(data[\"actual_intent_correct\"],data[\"predicted_intent\"],average='weighted')\n",
    "        accuracy = accuracy_score(data[\"actual_intent_correct\"], data[\"predicted_intent\"])\n",
    "        result_table = result_table.append({\n",
    "            \"fold\": i+1,\n",
    "            \"total_tested\": len(results_kfold[i]),\n",
    "            \"incorrect\": len(incorrect_n),\n",
    "            \"incorrect_avg_confidence\": incorrect_avg_conf,\n",
    "            \"accuracy\": accuracy, \n",
    "            \"precision\": precision, \n",
    "            \"recall\": recall, \n",
    "            \"fscore\": fscore\n",
    "        }, ignore_index=True)\n",
    "    \n",
    "    return result_table\n",
    "\n",
    "result_table = define_metrics(results_kfold)\n",
    "result_table"
   ]
  },
  {
   "cell_type": "markdown",
   "metadata": {},
   "source": [
    "<img src=\"images/precision-recall-relevant-selected.jpg\" style=\"width: 500px;\">"
   ]
  },
  {
   "cell_type": "code",
   "execution_count": 18,
   "metadata": {},
   "outputs": [
    {
     "name": "stdout",
     "output_type": "stream",
     "text": [
      "Confusion matrix for the Intent matching\n"
     ]
    },
    {
     "data": {
      "image/png": "[encoded data removed]",
      "text/plain": [
       "<Figure size 1008x1008 with 2 Axes>"
      ]
     },
     "metadata": {},
     "output_type": "display_data"
    }
   ],
   "source": [
    "def data_prep_confusion_matrix(list_df):\n",
    "    \"\"\"\n",
    "    this function prepares the dataframe to be then used for the confusion matrix \n",
    "    \n",
    "    :param list_df: is the list of dataframes (results) coming from each fold. \n",
    "    :return matrix: it is the confusion matrix that will be displayed in `plot_confusion_matrix`\n",
    "    :return lab: the lables that are used for the visualisation \n",
    "    \"\"\"\n",
    "    df = pd.concat(list_df) \n",
    "    dataframe = df.reset_index()\n",
    "    \n",
    "    dataframe[\"actual_intent_correct\"] = dataframe[\"actual_intent1\"]\n",
    "    dataframe[\"actual_intent_correct\"] = np.where((dataframe[\"actual_confidence1\"]<threshold),\\\n",
    "                                                  \"BELOW_THRESHOLD\", dataframe[\"actual_intent1\"])\n",
    "    matrix = confusion_matrix(dataframe[\"actual_intent_correct\"], dataframe[\"predicted_intent\"])\n",
    "    \n",
    "    lab1 = dataframe[\"actual_intent_correct\"].unique()\n",
    "    lab2 = dataframe[\"predicted_intent\"].unique()\n",
    "    lab = np.union1d(lab1,lab2)\n",
    "    \n",
    "    return matrix, lab, dataframe\n",
    "\n",
    "matrix, lab, combined_df  = data_prep_confusion_matrix(results_kfold)\n",
    "\n",
    "\n",
    "\n",
    "def plot_confusion_matrix(cm, classes,\n",
    "                          normalize=False,\n",
    "                          title='Confusion matrix',\n",
    "                          cmap=plt.cm.RdPu):\n",
    "    \"\"\"\n",
    "    This function prints and plots the confusion matrix.\n",
    "    Normalization can be applied by setting `normalize=True`.\n",
    "    \"\"\"\n",
    "    if normalize:\n",
    "        cm = cm.astype('float') / cm.sum(axis=1)[:, np.newaxis]\n",
    "        print(\"Normalized confusion matrix for the Intent matching\")\n",
    "    else:\n",
    "        print('Confusion matrix for the Intent matching')\n",
    "\n",
    "    plt.imshow(cm, interpolation='nearest', cmap=cmap)\n",
    "    plt.title(title)\n",
    "    plt.colorbar()\n",
    "    tick_marks = np.arange(len(classes))\n",
    "    plt.xticks(tick_marks, classes, rotation=90)\n",
    "    plt.yticks(tick_marks, classes)\n",
    "\n",
    "    fmt = '.2f' if normalize else 'd'\n",
    "    thresh = cm.max() / 2.\n",
    "    for i, j in itertools.product(range(cm.shape[0]), range(cm.shape[1])):\n",
    "        plt.text(j, i, format(cm[i, j], fmt),\n",
    "                 horizontalalignment=\"center\",\n",
    "                 color=\"white\" if cm[i, j] > thresh else \"black\")\n",
    "\n",
    "    plt.ylabel('Actual Intent')\n",
    "    plt.xlabel('Predicted Intent')\n",
    "    plt.tight_layout()\n",
    "    \n",
    "    return \n",
    "    \n",
    "plt.figure(figsize=(14,14))\n",
    "plot_confusion_matrix(matrix, classes=lab,\n",
    "                      title='Confusion matrix')"
   ]
  },
  {
   "cell_type": "code",
   "execution_count": 21,
   "metadata": {},
   "outputs": [
    {
     "name": "stdout",
     "output_type": "stream",
     "text": [
      "OVERALL RESULTS\n",
      "Accuracy: 0.7051886792452831\n",
      "Precision: 0.6692442301487954\n",
      "Recall: 0.7051886792452831\n",
      "FScore: 0.6812422971832129\n",
      "\n",
      "\n",
      "PER INENT - DETAILED RESULTS\n",
      "                              precision    recall  f1-score   support\n",
      "\n",
      "             BELOW_THRESHOLD       0.00      0.00      0.00        34\n",
      "Bot_Control_Approve_Response       0.55      0.73      0.63        15\n",
      "  Bot_Control_Change_Subject       0.67      0.80      0.73        10\n",
      "   Bot_Control_Clarification       0.44      0.50      0.47        14\n",
      "Bot_Control_Confirm_Presence       0.31      0.38      0.34        13\n",
      "     Bot_Control_Ignore_Undo       0.25      0.60      0.35         5\n",
      " Bot_Control_Reject_Response       0.83      0.68      0.75        22\n",
      "         Bot_Control_Standby       0.75      0.71      0.73        21\n",
      "      Bot_Control_Start_Over       0.75      0.88      0.81        17\n",
      "          Bot_Control_Unsure       0.92      1.00      0.96        11\n",
      "           General_About_You       0.50      0.91      0.65        11\n",
      "  General_Agent_Capabilities       0.61      0.66      0.63        29\n",
      "    General_Connect_to_Agent       0.92      0.95      0.93        37\n",
      "              General_Ending       0.69      0.76      0.72        33\n",
      "           General_Greetings       0.63      0.63      0.63        27\n",
      "        General_Human_or_Bot       0.75      0.69      0.72        13\n",
      "               General_Jokes       1.00      0.94      0.97        18\n",
      "   General_Negative_Feedback       0.95      1.00      0.97        19\n",
      "   General_Positive_Feedback       0.53      0.67      0.59        15\n",
      "  General_Security_Assurance       0.96      1.00      0.98        25\n",
      "                        help       0.80      0.44      0.57         9\n",
      "                    location       0.40      0.29      0.33         7\n",
      "                     mission       1.00      1.00      1.00         5\n",
      "                       pizza       0.40      0.67      0.50         3\n",
      "                    toppings       0.71      0.83      0.77         6\n",
      "                  turn-right       1.00      1.00      1.00         5\n",
      "\n",
      "                 avg / total       0.67      0.71      0.68       424\n",
      "\n"
     ]
    }
   ],
   "source": [
    "print(\"OVERALL RESULTS\")\n",
    "accuracy = accuracy_score(combined_df[\"actual_intent_correct\"], combined_df[\"predicted_intent\"])\n",
    "print(\"Accuracy:\", accuracy)\n",
    "precision,recall,fscore,support=precision_recall_fscore_support(combined_df[\"actual_intent_correct\"],\n",
    "                                                                combined_df[\"predicted_intent\"],\n",
    "                                                                average='weighted')\n",
    "print(\"Precision:\", precision)\n",
    "print(\"Recall:\", recall)\n",
    "print(\"FScore:\", fscore)\n",
    "\n",
    "print(\"\\n\")\n",
    "print(\"PER INENT - DETAILED RESULTS\")\n",
    "print(classification_report(combined_df[\"actual_intent_correct\"], combined_df[\"predicted_intent\"]))\n",
    "report = classification_report(combined_df[\"actual_intent_correct\"], combined_df[\"predicted_intent\"])\n"
   ]
  },
  {
   "cell_type": "markdown",
   "metadata": {},
   "source": [
    "## 6. Analysis of the Report \n",
    "1. Let's export the analysis above into a CSV - \"classification_report.csv\" \n",
    "2. Let's see what are the least/top performing intents \n",
    "\n"
   ]
  },
  {
   "cell_type": "code",
   "execution_count": 22,
   "metadata": {},
   "outputs": [],
   "source": [
    "def classification_report_csv(report):\n",
    "    \"\"\"\n",
    "    Function that allows to export the report shown above into CSV - The row \"BELOW THRESHOLD\" \n",
    "    was deteled since it's not meaningful in this context. \n",
    "    \n",
    "    return: dataframe_new and the csv is saved in the folder \"results\"\n",
    "    \"\"\"\n",
    "    report_data = []\n",
    "    lines = report.split('\\n')\n",
    "    for line in lines[2:-3]:\n",
    "        row = {}\n",
    "        row_data = line.split('      ')\n",
    "        row_data = list(filter(None, row_data))\n",
    "        row['class'] = row_data[0]\n",
    "        row['precision'] = float(row_data[1])\n",
    "        row['recall'] = float(row_data[2])\n",
    "        row['f1_score'] = float(row_data[3])\n",
    "        row['support'] = float(row_data[4])\n",
    "        report_data.append(row)\n",
    "    dataframe = pd.DataFrame.from_dict(report_data)\n",
    "    dataframe_new = dataframe[dataframe[\"class\"] != \" BELOW_THRESHOLD\"]\n",
    "    #print(dataframe_new)\n",
    "    dataframe_new.to_csv('./results/classification_report.csv', index = False)\n",
    "    \n",
    "    return dataframe_new\n",
    "    \n",
    "report_df = classification_report_csv(report)\n",
    "\n",
    "report_least = report_df.sort_values(by = ['f1_score']).reset_index(drop=True)\n",
    "report_top = report_df.sort_values(by = ['f1_score'], ascending=False).reset_index(drop=True)\n",
    "\n"
   ]
  },
  {
   "cell_type": "code",
   "execution_count": 23,
   "metadata": {},
   "outputs": [
    {
     "data": {
      "text/plain": [
       "Text(0.5,1,'5 Top Performing intents (F1_score)')"
      ]
     },
     "execution_count": 23,
     "metadata": {},
     "output_type": "execute_result"
    },
    {
     "data": {
      "image/png": "[encoded data removed]",
      "text/plain": [
       "<Figure size 1224x360 with 2 Axes>"
      ]
     },
     "metadata": {},
     "output_type": "display_data"
    }
   ],
   "source": [
    "# Visualization of top intents \n",
    "import seaborn as sns\n",
    "sns.set(style=\"whitegrid\")\n",
    "\n",
    "fig, (ax1, ax2) = plt.subplots(ncols=2 ,figsize=(17,5))\n",
    "ax1.set(ylim=(0, 1))\n",
    "ax2.set(ylim=(0, 1))\n",
    "\n",
    "# worst performing intents \n",
    "sns.barplot(x=\"class\", y=\"f1_score\", data=report_least[:5], palette=\"Reds\", ax=ax1)\n",
    "ax1.set_xticklabels(ax1.get_xticklabels(), rotation=90)\n",
    "ax1.set_title(\"5 Least Performing intents (F1_score)\")\n",
    "\n",
    "# top performing intents\n",
    "sns.barplot(x=\"class\", y=\"f1_score\", data=report_top[:5], palette=\"Blues\", ax=ax2)\n",
    "ax2.set_xticklabels(ax2.get_xticklabels(), rotation=90)\n",
    "ax2.set_title(\"5 Top Performing intents (F1_score)\")\n"
   ]
  },
  {
   "cell_type": "markdown",
   "metadata": {},
   "source": [
    "----------------------------------\n",
    "## 7. Analyse the Incorrect matches\n",
    "We have identified 3 types of different incorrect matches. \n",
    "1. **Incorrect intent was triggered with high confidence**: It is important to understand why the incorrect intent is sensitive to the testing phrase – an N-gram test can be helpful in such cases. This type of error has the priority, since it can have a bad influence on the chatbot’s performance.\n",
    "2. **Incorrect intent was triggered with low confidence** : Since those intents were triggered with low confidence, this error has less priority compared to problem (1). However, an incorrect intent was still detected. – an N-gram test can be helpful in such cases. Further, more training is necessary in order to boost the confidence level of the correct intent and resolving the conflicts between both intents.\n",
    "3. **Correct intent but with low confidence** : More training is needed in order to increase the confidence level of the correct intent."
   ]
  },
  {
   "cell_type": "markdown",
   "metadata": {},
   "source": [
    "### 7.1. Incorrect intent was triggered with high confidence "
   ]
  },
  {
   "cell_type": "code",
   "execution_count": null,
   "metadata": {},
   "outputs": [],
   "source": [
    "incorrect1 = combined_df.loc[(combined_df[\"predicted_intent\"]!=combined_df[\"actual_intent1\"])&(combined_df[\"actual_confidence1\"]>=threshold)]\n",
    "if (len(incorrect1) == 0 ): \n",
    "    print (\"No issues found\")\n",
    "else: \n",
    "    print(\"Detected: {} samples\".format(len(incorrect1)))\n",
    "    incorrect1.to_csv('./results/01.wrong_intent_high_confidence.csv', index = False)\n",
    "    print(\"File saved in 'results' - 01.wrong_intent_high_confidence.csv\")\n",
    "    "
   ]
  },
  {
   "cell_type": "markdown",
   "metadata": {},
   "source": [
    "### 7.2. Incorrect intent was triggered with low confidence "
   ]
  },
  {
   "cell_type": "code",
   "execution_count": 25,
   "metadata": {},
   "outputs": [
    {
     "name": "stdout",
     "output_type": "stream",
     "text": [
      "Detected: 24 samples\n",
      "File saved in 'results' - 02.wrong_intent_low_confidence.csv\n"
     ]
    }
   ],
   "source": [
    "incorrect2 = combined_df.loc[(combined_df[\"predicted_intent\"]!=combined_df[\"actual_intent1\"])&(combined_df[\"actual_confidence1\"]<threshold)]\n",
    "if (len(incorrect2) == 0 ): \n",
    "    print (\"No issues found\")\n",
    "else: \n",
    "    print(\"Detected: {} samples\".format(len(incorrect2)))\n",
    "    incorrect2.to_csv('./results/02.wrong_intent_low_confidence.csv', index = False)\n",
    "    print(\"File saved in 'results' - 02.wrong_intent_low_confidence.csv\")"
   ]
  },
  {
   "cell_type": "markdown",
   "metadata": {},
   "source": [
    "### 7.3. Correct intent was triggered but with low confidence "
   ]
  },
  {
   "cell_type": "code",
   "execution_count": 26,
   "metadata": {},
   "outputs": [
    {
     "name": "stdout",
     "output_type": "stream",
     "text": [
      "Detected: 10 samples\n",
      "File saved in 'results' - 03.correct_intent_low_confidence.csv\n"
     ]
    }
   ],
   "source": [
    "incorrect3 = combined_df.loc[(combined_df[\"predicted_intent\"]==combined_df[\"actual_intent1\"])&(combined_df[\"actual_confidence1\"]<threshold)]\n",
    "if (len(incorrect3) == 0 ): \n",
    "    print (\"No issues found\")\n",
    "else: \n",
    "    print(\"Detected: {} samples\".format(len(incorrect3)))\n",
    "    incorrect3.to_csv('./results/03.correct_intent_low_confidence.csv', index = False)\n",
    "    print(\"File saved in 'results' - 03.correct_intent_low_confidence.csv\")"
   ]
  },
  {
   "cell_type": "markdown",
   "metadata": {},
   "source": [
    "## 8. Highlight possible Confused Intents\n",
    "There are different ways to detect if intents are overlapping creating 'confusion' in the bot. This time we will use a pragmatic way: let's check the difference in confidence level between the first and second intent and see if it's less than a certain level (`threshold_confusion` e.g. 10%, 15%). If it is less, then maybe it's a good idea to investigate why the confidence levels are so close to each other and improve the Ground Truth of these intents. \n",
    "\n",
    "The first intent needs to be higher than the threshold determined at the beginning of this notebook (`threshold`).  "
   ]
  },
  {
   "cell_type": "code",
   "execution_count": 27,
   "metadata": {},
   "outputs": [],
   "source": [
    "threshold_confusion = 0.10   ## USER CHOICE"
   ]
  },
  {
   "cell_type": "code",
   "execution_count": 28,
   "metadata": {},
   "outputs": [
    {
     "name": "stdout",
     "output_type": "stream",
     "text": [
      "Detected: 39 samples\n",
      "File saved in 'results' - 04.intent_overlap.csv\n",
      "\n",
      "\n",
      "Show unique pairings\n",
      "actual_intent1               actual_intent2              \n",
      "Bot_Control_Change_Subject   location                        1\n",
      "Bot_Control_Clarification    Bot_Control_Ignore_Undo         1\n",
      "                             Bot_Control_Start_Over          1\n",
      "                             General_Negative_Feedback       1\n",
      "Bot_Control_Reject_Response  Bot_Control_Approve_Response    1\n",
      "                             Bot_Control_Clarification       1\n",
      "                             Bot_Control_Ignore_Undo         1\n",
      "                             General_Human_or_Bot            1\n",
      "                             mission                         1\n",
      "Bot_Control_Standby          Bot_Control_Start_Over          1\n",
      "Bot_Control_Start_Over       General_Greetings               1\n",
      "                             General_Negative_Feedback       1\n",
      "                             General_Security_Assurance      1\n",
      "Bot_Control_Unsure           Bot_Control_Reject_Response     1\n",
      "General_About_You            General_Agent_Capabilities      1\n",
      "                             General_Human_or_Bot            1\n",
      "General_Agent_Capabilities   Bot_Control_Unsure              1\n",
      "                             General_Greetings               1\n",
      "General_Connect_to_Agent     Bot_Control_Confirm_Presence    1\n",
      "General_Ending               Bot_Control_Standby             1\n",
      "                             General_Greetings               1\n",
      "                             General_Positive_Feedback       2\n",
      "General_Greetings            Bot_Control_Confirm_Presence    1\n",
      "                             Bot_Control_Ignore_Undo         1\n",
      "General_Human_or_Bot         General_Connect_to_Agent        1\n",
      "                             General_Security_Assurance      1\n",
      "General_Jokes                General_Agent_Capabilities      1\n",
      "General_Positive_Feedback    Bot_Control_Reject_Response     1\n",
      "                             General_About_You               1\n",
      "                             General_Greetings               1\n",
      "General_Security_Assurance   General_Negative_Feedback       1\n",
      "help                         General_Agent_Capabilities      1\n",
      "location                     Bot_Control_Confirm_Presence    1\n",
      "                             General_Positive_Feedback       1\n",
      "mission                      General_Agent_Capabilities      1\n",
      "                             General_Greetings               1\n",
      "toppings                     pizza                           1\n",
      "turn-right                   Bot_Control_Start_Over          1\n",
      "dtype: int64\n"
     ]
    }
   ],
   "source": [
    "confusion1 = combined_df.loc[(combined_df[\"actual_confidence1\"]-combined_df[\"actual_confidence2\"]<threshold_confusion)&(combined_df[\"actual_confidence1\"]>threshold)]\n",
    "if (len(confusion1) == 0 ): \n",
    "    print (\"No overlapping intents found\")\n",
    "else: \n",
    "    print(\"Detected: {} samples\".format(len(confusion1)))\n",
    "    confusion1.to_csv('./results/04.intent_overlap.csv', index = False)\n",
    "    print(\"File saved in 'results' - 04.intent_overlap.csv\")\n",
    "    print(\"\\n\")\n",
    "    print(\"Show unique pairings\")\n",
    "    df = confusion1[['actual_intent1', 'actual_intent2']]\n",
    "    print(df.groupby(['actual_intent1', 'actual_intent2']).size())\n",
    "    #print (df)"
   ]
  },
  {
   "cell_type": "markdown",
   "metadata": {},
   "source": [
    "### Delete the workspace \n",
    "Once you have finished your testing and you have the results, you can delete the workspaces. "
   ]
  },
  {
   "cell_type": "code",
   "execution_count": 29,
   "metadata": {},
   "outputs": [
    {
     "name": "stdout",
     "output_type": "stream",
     "text": [
      "deleting workspace 1 out of 5: d34f5eb3-d60c-4e69-ab65-f423283966c4\n",
      "deleting workspace 2 out of 5: 2fdc2069-5523-4bca-b25f-f5e4e375e097\n",
      "deleting workspace 3 out of 5: 6e22e5eb-6071-4475-ab9e-ec340cf77213\n",
      "deleting workspace 4 out of 5: 74f8b1b4-7a01-4271-b139-2c5e4bd15545\n",
      "deleting workspace 5 out of 5: cc6201c1-9840-4c0f-a6d8-5f6336f2d834\n"
     ]
    }
   ],
   "source": [
    "def delete_kfold_workspaces(workspaces):\n",
    "    \"\"\"\n",
    "    delete the workspaces when you dont need them anymore\n",
    "    \"\"\"\n",
    "    for i in range(len(workspaces)):\n",
    "        print(\"deleting workspace {} out of {}: {}\".format(i+1, len(workspaces), workspaces[i]))\n",
    "        response = assistant.delete_workspace(\n",
    "                workspace_id = workspaces[i]).get_result()\n",
    "    return \n",
    "\n",
    "delete_kfold_workspaces(workspaces)"
   ]
  },
  {
   "cell_type": "markdown",
   "metadata": {},
   "source": [
    "## Improvement List\n",
    "\n"
   ]
  },
  {
   "cell_type": "markdown",
   "metadata": {},
   "source": [
    "1. export to CSV - what and which table? \n",
    "2. pie / donut chart to show which intents are the overlapping the most. "
   ]
  },
  {
   "cell_type": "markdown",
   "metadata": {},
   "source": [
    "## Useful Links \n",
    "- https://en.wikipedia.org/wiki/Cross-validation_(statistics)\n",
    "- https://scikit-learn.org/stable/modules/cross_validation.html\n",
    "- https://scikit-learn.org/stable/modules/generated/sklearn.model_selection.KFold.html"
   ]
  },
  {
   "cell_type": "markdown",
   "metadata": {},
   "source": [
    "### Author: \n",
    "- **[Erika Agostinelli](https://www.linkedin.com/in/erikaagostinelli/)** is a Data Scientist and AI specialist part of IBM Data Science Elite Team where she specializes in Analytics platforms and Machine Learning solutions."
   ]
  },
  {
   "cell_type": "markdown",
   "metadata": {},
   "source": [
    "Copyright 2019 IBM Corp. All Rights Reserved."
   ]
  },
  {
   "cell_type": "code",
   "execution_count": null,
   "metadata": {},
   "outputs": [],
   "source": []
  }
 ],
 "metadata": {
  "kernelspec": {
   "display_name": "Python 3",
   "language": "python",
   "name": "python3"
  },
  "language_info": {
   "codemirror_mode": {
    "name": "ipython",
    "version": 3
   },
   "file_extension": ".py",
   "mimetype": "text/x-python",
   "name": "python",
   "nbconvert_exporter": "python",
   "pygments_lexer": "ipython3",
   "version": "3.7.3"
  }
 },
 "nbformat": 4,
 "nbformat_minor": 2
}
