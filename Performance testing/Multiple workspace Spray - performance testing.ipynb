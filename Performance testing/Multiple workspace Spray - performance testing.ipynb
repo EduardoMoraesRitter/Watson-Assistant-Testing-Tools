{
 "cells": [
  {
   "cell_type": "markdown",
   "metadata": {},
   "source": [
    "# Multiple Workspaces \"Spray\" - performance testing \n",
    "This notebook can be used for Regression testing and Blind testing in projects where multiple-workspaces (multiple-skills) are used. \n",
    "\n",
    "**Warning: this notebook evaluates the SPRAY method**: each testing phrase is evaluated by each sub-workspace/skill individually. <br>It might not be suitable for projects that are using ROUTER or WATERFALL method based on the <a href=\"https://medium.com/ibm-watson/ibm-watson-conversation-multiple-workspace-orchestration-d51f003f5d11\">terminology of this blog </a>\n",
    "\n",
    "### The Scope \n",
    "1. **Regression Test Scope**: This can be used to test a set of testing phrases that are not part of the training set in Watson Assistant (WA). The idea is that you would re-run this test over time after the improvement phase, to check the health status of your workspace, and make sure that the workspace is still behaving in a consistent manner. \n",
    "2. **Blind Test Scope**: Simply analyse a set of testing phrases that are not part of the training set in Watson Assistant. This can be a one-off task requested by stakeholders. \n",
    "\n",
    "Either way, the procedure to obtain the results is the same in both cases. The difference is the scope and the content of your testing set.  \n",
    "\n",
    "<img src=\"images/data_flow1.png\" style=\"width: 1000px;\">\n",
    "\n",
    "\n",
    "<div class=\"alert alert-block alert-info\">\n",
    "<b>Notebook Summary</b>\n",
    "<br>\n",
    "      \n",
    "1. <b>Connect to WA</b> : credentials to connect to the right WA workspace<br>\n",
    "2. <b>Feed your test set</b> : feed your regression test in a .csv format<br>\n",
    "3. <b>Run the blind test</b> : send the testing phrases to WA workspace <br>\n",
    "4. <b>Analyse the results</b> : calculate the metrics and confusion matrix<br>\n",
    "5. <b>Analyse the incorrect matches</b> : highlight the phrases that did not trigger the right intent  \n",
    "</div>\n"
   ]
  },
  {
   "cell_type": "markdown",
   "metadata": {},
   "source": [
    "## Libraries"
   ]
  },
  {
   "cell_type": "code",
   "execution_count": 2,
   "metadata": {},
   "outputs": [
    {
     "name": "stdout",
     "output_type": "stream",
     "text": [
      "Requirement already satisfied: msgpack in /Users/erikaagostinelli/anaconda3/lib/python3.6/site-packages (0.5.6)\n",
      "\u001b[33mYou are using pip version 10.0.1, however version 19.0.3 is available.\n",
      "You should consider upgrading via the 'pip install --upgrade pip' command.\u001b[0m\n",
      "Requirement already satisfied: watson-developer-cloud in /Users/erikaagostinelli/anaconda3/lib/python3.6/site-packages (2.0.1)\n",
      "Requirement already satisfied: python-dateutil>=2.5.3 in /Users/erikaagostinelli/anaconda3/lib/python3.6/site-packages (from watson-developer-cloud) (2.7.3)\n",
      "Requirement already satisfied: websocket-client==0.47.0 in /Users/erikaagostinelli/anaconda3/lib/python3.6/site-packages (from watson-developer-cloud) (0.47.0)\n",
      "Requirement already satisfied: requests<3.0,>=2.0 in /Users/erikaagostinelli/anaconda3/lib/python3.6/site-packages (from watson-developer-cloud) (2.18.4)\n",
      "Requirement already satisfied: six>=1.5 in /Users/erikaagostinelli/anaconda3/lib/python3.6/site-packages (from python-dateutil>=2.5.3->watson-developer-cloud) (1.11.0)\n",
      "Requirement already satisfied: chardet<3.1.0,>=3.0.2 in /Users/erikaagostinelli/anaconda3/lib/python3.6/site-packages (from requests<3.0,>=2.0->watson-developer-cloud) (3.0.4)\n",
      "Requirement already satisfied: idna<2.7,>=2.5 in /Users/erikaagostinelli/anaconda3/lib/python3.6/site-packages (from requests<3.0,>=2.0->watson-developer-cloud) (2.6)\n",
      "Requirement already satisfied: urllib3<1.23,>=1.21.1 in /Users/erikaagostinelli/anaconda3/lib/python3.6/site-packages (from requests<3.0,>=2.0->watson-developer-cloud) (1.22)\n",
      "Requirement already satisfied: certifi>=2017.4.17 in /Users/erikaagostinelli/anaconda3/lib/python3.6/site-packages (from requests<3.0,>=2.0->watson-developer-cloud) (2018.4.16)\n",
      "\u001b[33mYou are using pip version 10.0.1, however version 19.0.3 is available.\n",
      "You should consider upgrading via the 'pip install --upgrade pip' command.\u001b[0m\n"
     ]
    }
   ],
   "source": [
    "!pip install msgpack\n",
    "!pip install watson-developer-cloud\n",
    "import json \n",
    "import pandas as pd\n",
    "import numpy as np\n",
    "import matplotlib.pyplot as plt\n",
    "%matplotlib inline\n",
    "import warnings\n",
    "warnings.filterwarnings('ignore')\n",
    "# import seaborn as sns\n",
    "from watson_developer_cloud import AssistantV1\n",
    "from IPython.display import display\n",
    "from sklearn.metrics import *\n",
    "import itertools"
   ]
  },
  {
   "cell_type": "markdown",
   "metadata": {},
   "source": [
    "## 1. Connect to WA \n",
    "\n",
    "<div class=\"alert alert-block alert-warning\">\n",
    "\n",
    "<b>Data needed from the user</b>\n",
    "<br>\n",
    "\n",
    "    \n",
    "1. <b>Credentials to connect to WA</b> : Log in to IBM cloud, Go to your resource list, select your WA service, and Click Show Credentials - based on what credentials you have, choose option1 (IAM) or option2 (Basic) to connect to your WA instance.<br>\n",
    "2. <b>Multiple Workspaces</b> : the IDs of the workspaces that you want to analyse. - Go to your WA instance, \"Skills\" tab, click on the three dots of the workspace/skill that you are interested, choose \"View API details\" and you will find the Workspace ID\n",
    "</div>"
   ]
  },
  {
   "cell_type": "markdown",
   "metadata": {},
   "source": [
    "1. **IAM token**: With some service instances, you authenticate to the API by using **Identity and Access Management (IAM)** - (IBM Cloud is migrating to token-based IAM authentication). You will need `API Key`, `url` and `version`\n",
    "2. **Basic Authentication**: In other instances, you authenticate by providing the **username and password** for the service instance. You will need `username`, `password`, `url` and `version`"
   ]
  },
  {
   "cell_type": "markdown",
   "metadata": {},
   "source": [
    "**Option 1 - IAM token**"
   ]
  },
  {
   "cell_type": "code",
   "execution_count": null,
   "metadata": {},
   "outputs": [],
   "source": [
    "assistant = AssistantV1(\n",
    "    iam_apikey='',  #USER INPUT\n",
    "    version='2018-07-10',  #USER INPUT\n",
    "    url= '') #USER INPUT  \n",
    "    # e.g. Frankfurt : 'https://gateway-fra.watsonplatform.net/assistant/api'\n",
    "    # e.g. US-South : 'https://gateway.watsonplatform.net/assistant/api'\n",
    "\n",
    "multi_workspace = ['',\n",
    "                   '', \n",
    "                   '',\n",
    "                   ''] #USER INPUT"
   ]
  },
  {
   "cell_type": "markdown",
   "metadata": {},
   "source": [
    "**Option 2 - Basic Authentication**"
   ]
  },
  {
   "cell_type": "code",
   "execution_count": 3,
   "metadata": {},
   "outputs": [],
   "source": [
    "assistant = AssistantV1(\n",
    "    username='',  #USER INPUT\n",
    "    password='', #USER INPUT\n",
    "    version='2018-07-10',  #USER INPUT\n",
    "    url= '') #USER INPUT  \n",
    "    # e.g. Frankfurt : 'https://gateway-fra.watsonplatform.net/assistant/api'\n",
    "    # e.g. US-South : 'https://gateway.watsonplatform.net/assistant/api'\n",
    "\n",
    "multi_workspace = ['',\n",
    "                   '', \n",
    "                   '',\n",
    "                   ''] #USER INPUT"
   ]
  },
  {
   "cell_type": "markdown",
   "metadata": {},
   "source": [
    "## 2. Feed the regression test\n",
    "\n",
    "<div class=\"alert alert-block alert-warning\">\n",
    "\n",
    "<b>Data needed from the user</b>\n",
    "<br>\n",
    "\n",
    "    \n",
    "1. <b>CSV file</b> : the regression test file containing the text and the predicted intent in a .csv format -> column A named : \"text\" and column B named: \"intent\" (UTF-8 format)<br>\n",
    "2. <b>Threshold</b>: this is the minimum level of confidence level that you are expecting in order to check if the input text is triggering the right intent. For example, if the threshold = 0.40 and the input phrase is triggering the correct intent with only 35% of confidence level, we would want to count it as a False Positive (not meeting the required conditions) and not as a True Positive, despite the intent is correct. The default in WA is 0.2. Less than 20% the utterance is classified as `irrelevant`. However, if you need to have a higher threshold it can be set here. \n",
    "</div>\n"
   ]
  },
  {
   "cell_type": "code",
   "execution_count": 4,
   "metadata": {},
   "outputs": [],
   "source": [
    "df = pd.read_csv(\"./test_set/multiws_reg_test.csv\") #USER INPUT\n",
    "\n",
    "threshold = 0.5 #USER INPUT"
   ]
  },
  {
   "cell_type": "markdown",
   "metadata": {},
   "source": [
    "## 3. Run the Blind test \n",
    "We are sending each testing phrase to each WA and we are recording the first intent triggered with the respective confidence levels in a python dictionary that is stored in a dataframe. "
   ]
  },
  {
   "cell_type": "code",
   "execution_count": 6,
   "metadata": {},
   "outputs": [
    {
     "name": "stdout",
     "output_type": "stream",
     "text": [
      "START TESTING\n",
      "\n",
      "I would like to order a pizza ....\n",
      "where I am right now ....\n",
      "tell me your name ....\n",
      "mission to Mars ....\n",
      "I am going to miss you ....\n",
      "I am going to miss my dog ....\n",
      "I want rucola on top  ....\n",
      "is it possible to have ricotta salata ....\n",
      "\n",
      "FINISHED\n"
     ]
    },
    {
     "data": {
      "text/html": [
       "<div>\n",
       "<style scoped>\n",
       "    .dataframe tbody tr th:only-of-type {\n",
       "        vertical-align: middle;\n",
       "    }\n",
       "\n",
       "    .dataframe tbody tr th {\n",
       "        vertical-align: top;\n",
       "    }\n",
       "\n",
       "    .dataframe thead th {\n",
       "        text-align: right;\n",
       "    }\n",
       "</style>\n",
       "<table border=\"1\" class=\"dataframe\">\n",
       "  <thead>\n",
       "    <tr style=\"text-align: right;\">\n",
       "      <th></th>\n",
       "      <th>original_text</th>\n",
       "      <th>predicted_ws</th>\n",
       "      <th>predicted_intent</th>\n",
       "      <th>ws_1</th>\n",
       "      <th>ws_2</th>\n",
       "      <th>ws_3</th>\n",
       "      <th>ws_4</th>\n",
       "      <th>max_confidence</th>\n",
       "      <th>correct_ws</th>\n",
       "      <th>correct_intent</th>\n",
       "    </tr>\n",
       "  </thead>\n",
       "  <tbody>\n",
       "    <tr>\n",
       "      <th>0</th>\n",
       "      <td>I would like to order a pizza</td>\n",
       "      <td>347da87c-8823-4aea-9d3f-b441ea8c31e5</td>\n",
       "      <td>pizza</td>\n",
       "      <td>{'intent': 'pizza', 'confidence': 0.9907717704...</td>\n",
       "      <td>{'intent': 'locate_amenity', 'confidence': 0.9...</td>\n",
       "      <td>{'intent': 'orderRequest', 'confidence': 0.418...</td>\n",
       "      <td>{'intent': 'orderRequest', 'confidence': 0.419...</td>\n",
       "      <td>{'intent': 'pizza', 'confidence': 0.9907717704...</td>\n",
       "      <td>1.0</td>\n",
       "      <td>1.0</td>\n",
       "    </tr>\n",
       "    <tr>\n",
       "      <th>1</th>\n",
       "      <td>where I am right now</td>\n",
       "      <td>347da87c-8823-4aea-9d3f-b441ea8c31e5</td>\n",
       "      <td>location</td>\n",
       "      <td>{'intent': 'location', 'confidence': 0.8985697...</td>\n",
       "      <td>{'intent': 'locate_amenity', 'confidence': 0.7...</td>\n",
       "      <td>{'intent': 'branchClosure', 'confidence': 0.35...</td>\n",
       "      <td>{'intent': 'branchClosure', 'confidence': 0.35...</td>\n",
       "      <td>{'intent': 'location', 'confidence': 0.8985697...</td>\n",
       "      <td>1.0</td>\n",
       "      <td>1.0</td>\n",
       "    </tr>\n",
       "    <tr>\n",
       "      <th>2</th>\n",
       "      <td>tell me your name</td>\n",
       "      <td>347da87c-8823-4aea-9d3f-b441ea8c31e5</td>\n",
       "      <td>General_About_You</td>\n",
       "      <td>{'intent': 'General_About_You', 'confidence': ...</td>\n",
       "      <td>{'intent': 'off_topic', 'confidence': 0.944794...</td>\n",
       "      <td>{'intent': 'chitChatConversation', 'confidence...</td>\n",
       "      <td>{'intent': 'chitChatConversation', 'confidence...</td>\n",
       "      <td>{'intent': 'General_About_You', 'confidence': ...</td>\n",
       "      <td>1.0</td>\n",
       "      <td>1.0</td>\n",
       "    </tr>\n",
       "    <tr>\n",
       "      <th>3</th>\n",
       "      <td>mission to Mars</td>\n",
       "      <td>347da87c-8823-4aea-9d3f-b441ea8c31e5</td>\n",
       "      <td>mission</td>\n",
       "      <td>{'intent': 'mission', 'confidence': 0.81527824...</td>\n",
       "      <td>{'intent': 'goodbyes', 'confidence': 0.0852557...</td>\n",
       "      <td>{'intent': 'niceDayReply', 'confidence': 0.273...</td>\n",
       "      <td>{'intent': 'chitChatConversation', 'confidence...</td>\n",
       "      <td>{'intent': 'mission', 'confidence': 0.81527824...</td>\n",
       "      <td>1.0</td>\n",
       "      <td>1.0</td>\n",
       "    </tr>\n",
       "    <tr>\n",
       "      <th>4</th>\n",
       "      <td>I am going to miss you</td>\n",
       "      <td>347da87c-8823-4aea-9d3f-b441ea8c31e5</td>\n",
       "      <td>General_Ending</td>\n",
       "      <td>{'intent': 'General_Ending', 'confidence': 0.7...</td>\n",
       "      <td>{'intent': 'goodbyes', 'confidence': 0.9581634...</td>\n",
       "      <td>{'intent': 'chitChatConversation', 'confidence...</td>\n",
       "      <td>{'intent': 'chitChatConversation', 'confidence...</td>\n",
       "      <td>{'intent': 'goodbyes', 'confidence': 0.9581634...</td>\n",
       "      <td>0.0</td>\n",
       "      <td>0.0</td>\n",
       "    </tr>\n",
       "    <tr>\n",
       "      <th>5</th>\n",
       "      <td>I am going to miss my dog</td>\n",
       "      <td>347da87c-8823-4aea-9d3f-b441ea8c31e5</td>\n",
       "      <td>General_Ending</td>\n",
       "      <td>{'intent': 'General_Ending', 'confidence': 0.4...</td>\n",
       "      <td>{'intent': 'off_topic', 'confidence': 0.460549...</td>\n",
       "      <td>{'intent': 'chitChatConversation', 'confidence...</td>\n",
       "      <td>{'intent': 'struggling', 'confidence': 0.29607...</td>\n",
       "      <td>{'intent': 'off_topic', 'confidence': 0.460549...</td>\n",
       "      <td>0.0</td>\n",
       "      <td>0.0</td>\n",
       "    </tr>\n",
       "    <tr>\n",
       "      <th>6</th>\n",
       "      <td>I want rucola on top</td>\n",
       "      <td>347da87c-8823-4aea-9d3f-b441ea8c31e5</td>\n",
       "      <td>toppings</td>\n",
       "      <td>{'intent': 'General_Ending', 'confidence': 0.5...</td>\n",
       "      <td>{'intent': 'turn_on', 'confidence': 0.40934834...</td>\n",
       "      <td>{'intent': 'increase', 'confidence': 0.3344546...</td>\n",
       "      <td>{'intent': 'increase', 'confidence': 0.3575446...</td>\n",
       "      <td>{'intent': 'General_Ending', 'confidence': 0.5...</td>\n",
       "      <td>1.0</td>\n",
       "      <td>0.0</td>\n",
       "    </tr>\n",
       "    <tr>\n",
       "      <th>7</th>\n",
       "      <td>is it possible to have ricotta salata</td>\n",
       "      <td>347da87c-8823-4aea-9d3f-b441ea8c31e5</td>\n",
       "      <td>toppings</td>\n",
       "      <td>{'intent': 'pizza', 'confidence': 0.3522557973...</td>\n",
       "      <td>{'intent': 'locate_amenity', 'confidence': 0.3...</td>\n",
       "      <td>{'intent': 'chitChatConversation', 'confidence...</td>\n",
       "      <td>{'intent': 'statement', 'confidence': 0.331102...</td>\n",
       "      <td>{'intent': 'pizza', 'confidence': 0.3522557973...</td>\n",
       "      <td>1.0</td>\n",
       "      <td>0.0</td>\n",
       "    </tr>\n",
       "  </tbody>\n",
       "</table>\n",
       "</div>"
      ],
      "text/plain": [
       "                           original_text  \\\n",
       "0          I would like to order a pizza   \n",
       "1                   where I am right now   \n",
       "2                      tell me your name   \n",
       "3                        mission to Mars   \n",
       "4                 I am going to miss you   \n",
       "5              I am going to miss my dog   \n",
       "6                  I want rucola on top    \n",
       "7  is it possible to have ricotta salata   \n",
       "\n",
       "                           predicted_ws   predicted_intent  \\\n",
       "0  347da87c-8823-4aea-9d3f-b441ea8c31e5              pizza   \n",
       "1  347da87c-8823-4aea-9d3f-b441ea8c31e5           location   \n",
       "2  347da87c-8823-4aea-9d3f-b441ea8c31e5  General_About_You   \n",
       "3  347da87c-8823-4aea-9d3f-b441ea8c31e5            mission   \n",
       "4  347da87c-8823-4aea-9d3f-b441ea8c31e5     General_Ending   \n",
       "5  347da87c-8823-4aea-9d3f-b441ea8c31e5     General_Ending   \n",
       "6  347da87c-8823-4aea-9d3f-b441ea8c31e5           toppings   \n",
       "7  347da87c-8823-4aea-9d3f-b441ea8c31e5           toppings   \n",
       "\n",
       "                                                ws_1  \\\n",
       "0  {'intent': 'pizza', 'confidence': 0.9907717704...   \n",
       "1  {'intent': 'location', 'confidence': 0.8985697...   \n",
       "2  {'intent': 'General_About_You', 'confidence': ...   \n",
       "3  {'intent': 'mission', 'confidence': 0.81527824...   \n",
       "4  {'intent': 'General_Ending', 'confidence': 0.7...   \n",
       "5  {'intent': 'General_Ending', 'confidence': 0.4...   \n",
       "6  {'intent': 'General_Ending', 'confidence': 0.5...   \n",
       "7  {'intent': 'pizza', 'confidence': 0.3522557973...   \n",
       "\n",
       "                                                ws_2  \\\n",
       "0  {'intent': 'locate_amenity', 'confidence': 0.9...   \n",
       "1  {'intent': 'locate_amenity', 'confidence': 0.7...   \n",
       "2  {'intent': 'off_topic', 'confidence': 0.944794...   \n",
       "3  {'intent': 'goodbyes', 'confidence': 0.0852557...   \n",
       "4  {'intent': 'goodbyes', 'confidence': 0.9581634...   \n",
       "5  {'intent': 'off_topic', 'confidence': 0.460549...   \n",
       "6  {'intent': 'turn_on', 'confidence': 0.40934834...   \n",
       "7  {'intent': 'locate_amenity', 'confidence': 0.3...   \n",
       "\n",
       "                                                ws_3  \\\n",
       "0  {'intent': 'orderRequest', 'confidence': 0.418...   \n",
       "1  {'intent': 'branchClosure', 'confidence': 0.35...   \n",
       "2  {'intent': 'chitChatConversation', 'confidence...   \n",
       "3  {'intent': 'niceDayReply', 'confidence': 0.273...   \n",
       "4  {'intent': 'chitChatConversation', 'confidence...   \n",
       "5  {'intent': 'chitChatConversation', 'confidence...   \n",
       "6  {'intent': 'increase', 'confidence': 0.3344546...   \n",
       "7  {'intent': 'chitChatConversation', 'confidence...   \n",
       "\n",
       "                                                ws_4  \\\n",
       "0  {'intent': 'orderRequest', 'confidence': 0.419...   \n",
       "1  {'intent': 'branchClosure', 'confidence': 0.35...   \n",
       "2  {'intent': 'chitChatConversation', 'confidence...   \n",
       "3  {'intent': 'chitChatConversation', 'confidence...   \n",
       "4  {'intent': 'chitChatConversation', 'confidence...   \n",
       "5  {'intent': 'struggling', 'confidence': 0.29607...   \n",
       "6  {'intent': 'increase', 'confidence': 0.3575446...   \n",
       "7  {'intent': 'statement', 'confidence': 0.331102...   \n",
       "\n",
       "                                      max_confidence  correct_ws  \\\n",
       "0  {'intent': 'pizza', 'confidence': 0.9907717704...         1.0   \n",
       "1  {'intent': 'location', 'confidence': 0.8985697...         1.0   \n",
       "2  {'intent': 'General_About_You', 'confidence': ...         1.0   \n",
       "3  {'intent': 'mission', 'confidence': 0.81527824...         1.0   \n",
       "4  {'intent': 'goodbyes', 'confidence': 0.9581634...         0.0   \n",
       "5  {'intent': 'off_topic', 'confidence': 0.460549...         0.0   \n",
       "6  {'intent': 'General_Ending', 'confidence': 0.5...         1.0   \n",
       "7  {'intent': 'pizza', 'confidence': 0.3522557973...         1.0   \n",
       "\n",
       "   correct_intent  \n",
       "0             1.0  \n",
       "1             1.0  \n",
       "2             1.0  \n",
       "3             1.0  \n",
       "4             0.0  \n",
       "5             0.0  \n",
       "6             0.0  \n",
       "7             0.0  "
      ]
     },
     "execution_count": 6,
     "metadata": {},
     "output_type": "execute_result"
    }
   ],
   "source": [
    "def multiws_blind_test(df):\n",
    "    \"\"\"\n",
    "    This function will take the regression test set uploaded in csv format and \n",
    "    will send each test phrase to WA and collect information on how the system responded. \n",
    "    \n",
    "    Parameter: \n",
    "        df: the regression_test in csv format\n",
    "\n",
    "    Return: \n",
    "        results: a Pandas dataframe with `original text`, `predicted intent`, `predicted_ws` and also the results from WA\n",
    "    \"\"\"\n",
    "    lst = [] # list of dictionary that I am creating \n",
    "    results = pd.DataFrame(columns=['original_text','predicted_ws','predicted_intent'])\n",
    "    \n",
    "    print(\"START TESTING\")\n",
    "    \n",
    "    # for each row of the df dataframe\n",
    "    for i in range(len(df)):  \n",
    "\n",
    "        text = df[\"text\"][i]\n",
    "        print(\"\\n\"+ text, end = \" \" )\n",
    "        results = results.append({\n",
    "                'original_text': df[\"text\"][i],\n",
    "                'predicted_ws': df[\"workspace_id\"][i],\n",
    "                'predicted_intent': df[\"intent\"][i],\n",
    "            }, ignore_index=True)\n",
    "        \n",
    "        # send one sentence to each workspace \n",
    "        for j in range(len(multi_workspace)):\n",
    "            response = assistant.message(workspace_id=multi_workspace[j], input={'text': text}, alternate_intents= True)\n",
    "            dumps = json.dumps(response.get_result(), indent=2)\n",
    "\n",
    "            data = json.loads(dumps)\n",
    "            \n",
    "            # take notes of the first intent and confidence level \n",
    "            intent1= data['intents'][0]['intent']\n",
    "            confidence1 = data['intents'][0]['confidence'] \n",
    "            \n",
    "            # put everything into a dictionary and collect all the dictionary into a list \n",
    "            dct = {\"intent\": intent1, \"confidence\": confidence1, \"workspace\": multi_workspace[j]}\n",
    "            lst.append(dct)\n",
    "            print('.',end='') # loading status...\n",
    "            \n",
    "        \n",
    "        # put in the dataframe the retults that you collected \n",
    "        for y in range(len(lst)):\n",
    "            results.loc[results.index[i], 'ws_{}'.format(y+1)] = [lst[y]]\n",
    "        \n",
    "        # find the best perfomring intent & workspace  \n",
    "        loc_max, intent_max, ws_max = get_max(lst)\n",
    "        \n",
    "        # create the column: max_condifence\n",
    "        results.loc[results.index[i], 'max_confidence'] = [{\"intent\": intent_max, \"confidence\": loc_max, \"workspace\": ws_max}]\n",
    "        \n",
    "        # create the columns: correct_ws and correct_intent\n",
    "        if (results[\"predicted_ws\"][i] == ws_max):\n",
    "            results.loc[results.index[i], 'correct_ws'] = 1\n",
    "            if (loc_max >threshold and results[\"predicted_intent\"][i] == intent_max ): \n",
    "                results.loc[results.index[i], 'correct_intent'] = 1\n",
    "            else: \n",
    "                results.loc[results.index[i], 'correct_intent'] = 0\n",
    "        else:\n",
    "            results.loc[results.index[i], 'correct_ws'] = 0\n",
    "            results.loc[results.index[i], 'correct_intent'] = 0\n",
    "        \n",
    "        lst=[] # clear the list and start with the next sentence \n",
    "    \n",
    "    results.to_csv(\"./results/multi_workspace/multiws_blind_test_results.csv\", encoding='utf-8', index=False)\n",
    "    \n",
    "    print(\"\\n\")\n",
    "    print(\"FINISHED\")\n",
    "    \n",
    "    return results\n",
    "\n",
    "\n",
    "\n",
    "def get_max(list_ws):\n",
    "    \"\"\"\n",
    "    This function will find the maximum value od Confidence levels inside a list \n",
    "    \"\"\"\n",
    "    loc_max = 0.00\n",
    "    for item in list_ws:\n",
    "        for key,val in item.items():\n",
    "            confidence = float(item['confidence'])\n",
    "            intent = item['intent']\n",
    "            ws = item['workspace']\n",
    "            if confidence > loc_max:\n",
    "                loc_max = confidence\n",
    "                intent_max = intent \n",
    "                ws_max = ws \n",
    "    \n",
    "    return loc_max, intent_max, ws_max\n",
    "\n",
    "\n",
    "results = multiws_blind_test(df)\n",
    "results.head(10)"
   ]
  },
  {
   "cell_type": "markdown",
   "metadata": {},
   "source": [
    "--------------------------------"
   ]
  },
  {
   "cell_type": "markdown",
   "metadata": {},
   "source": [
    "## Analysis of the results "
   ]
  },
  {
   "cell_type": "code",
   "execution_count": 7,
   "metadata": {},
   "outputs": [],
   "source": [
    "import seaborn as sns\n",
    "from matplotlib import rcParams\n",
    "sns.set(style=\"whitegrid\")"
   ]
  },
  {
   "cell_type": "markdown",
   "metadata": {},
   "source": [
    "### Overall correctness \n",
    " = the workspace and the intent were correctly triggered and the threshold requirement was fulfilled. "
   ]
  },
  {
   "cell_type": "code",
   "execution_count": 8,
   "metadata": {},
   "outputs": [
    {
     "data": {
      "text/plain": [
       "{'incorrect_intent': 4, 'correct_intent': 4}"
      ]
     },
     "execution_count": 8,
     "metadata": {},
     "output_type": "execute_result"
    }
   ],
   "source": [
    "name_dict = {0:\"incorrect_intent\", 1:\"correct_intent\"}\n",
    "results[\"correct_intent\"].value_counts().rename(index=name_dict).to_dict()"
   ]
  },
  {
   "cell_type": "code",
   "execution_count": 9,
   "metadata": {},
   "outputs": [
    {
     "data": {
      "image/png": "[encoded data removed]",
      "text/plain": [
       "<Figure size 432x432 with 1 Axes>"
      ]
     },
     "metadata": {},
     "output_type": "display_data"
    }
   ],
   "source": [
    "rcParams['figure.figsize'] = 6,6\n",
    "ax1 = sns.barplot(x=\"correct_intent\", y=\"correct_intent\", \n",
    "                  data=results, estimator=lambda x: len(x) / len(results) * 100, \n",
    "                  palette=\"husl\")\n",
    "ax1.set(xticklabels=[\"incorrect_intent\", \"correct_intent\"]) \n",
    "ax1.set(ylabel=\"Percentage\")\n",
    "ax1.set(xlabel=\"Overall Correctness\")\n",
    "for p in ax1.patches:\n",
    "             ax1.annotate(\"%.2f\" % p.get_height(), (p.get_x() + p.get_width() / 2., p.get_height()),\n",
    "                 ha='center', va='center', fontsize=11, color='black', xytext=(0, -20),\n",
    "                 textcoords='offset points')"
   ]
  },
  {
   "cell_type": "markdown",
   "metadata": {},
   "source": [
    "### Workspace Correctness\n",
    " = at least the workspace was correctly triggered"
   ]
  },
  {
   "cell_type": "code",
   "execution_count": 10,
   "metadata": {},
   "outputs": [
    {
     "data": {
      "text/plain": [
       "{'correct_ws': 6, 'incorrect_ws': 2}"
      ]
     },
     "execution_count": 10,
     "metadata": {},
     "output_type": "execute_result"
    }
   ],
   "source": [
    "name_dict = {0:\"incorrect_ws\", 1:\"correct_ws\"}\n",
    "results[\"correct_ws\"].value_counts().rename(index=name_dict).to_dict()\n"
   ]
  },
  {
   "cell_type": "code",
   "execution_count": 11,
   "metadata": {},
   "outputs": [
    {
     "data": {
      "image/png": "[encoded data removed]",
      "text/plain": [
       "<Figure size 432x432 with 1 Axes>"
      ]
     },
     "metadata": {},
     "output_type": "display_data"
    }
   ],
   "source": [
    "rcParams['figure.figsize'] = 6,6\n",
    "ax1 = sns.barplot(x=\"correct_ws\", y=\"correct_ws\", \n",
    "                  data=results, estimator=lambda x: len(x) / len(results) * 100, \n",
    "                  palette=\"RdBu\")\n",
    "ax1.set(xticklabels=[\"incorrect_ws\", \"correct_ws\"]) \n",
    "ax1.set(ylabel=\"Percentage\")\n",
    "ax1.set(xlabel=\"Workspace Correctness\")\n",
    "for p in ax1.patches:\n",
    "             ax1.annotate(\"%.2f\" % p.get_height(), (p.get_x() + p.get_width() / 2., p.get_height()),\n",
    "                 ha='center', va='center', fontsize=11, color='black', xytext=(0, -20),\n",
    "                 textcoords='offset points')"
   ]
  },
  {
   "cell_type": "markdown",
   "metadata": {},
   "source": [
    "----------------------------"
   ]
  },
  {
   "cell_type": "markdown",
   "metadata": {},
   "source": [
    "### Focus on \"correct_ws\" correctness \n",
    "Let's focus on the \"correct_ws\" instances. (The workspace was correctly detected and the intent matching still needs to be evaluated). Here, we can apply the classical metrics. "
   ]
  },
  {
   "cell_type": "code",
   "execution_count": 13,
   "metadata": {},
   "outputs": [],
   "source": [
    "data = results.loc[results[\"correct_ws\"]==1]"
   ]
  },
  {
   "cell_type": "code",
   "execution_count": 14,
   "metadata": {},
   "outputs": [
    {
     "name": "stdout",
     "output_type": "stream",
     "text": [
      "Confusion matrix for the Intent matching\n"
     ]
    },
    {
     "data": {
      "image/png": "[encoded data removed]",
      "text/plain": [
       "<Figure size 1008x1008 with 2 Axes>"
      ]
     },
     "metadata": {},
     "output_type": "display_data"
    }
   ],
   "source": [
    "def data_prep(dataframe):\n",
    "    \"\"\"\n",
    "    this function prepares the dataframe to be used \n",
    "    \"\"\"\n",
    "    dataframe[\"actual_intent_correct\"] = [d.get('intent') for d in dataframe[\"max_confidence\"]]\n",
    "    dataframe[\"actual_intent_correct\"] = np.where(([d.get('confidence')<threshold for d in dataframe[\"max_confidence\"]]),\\\n",
    "                                                  \"BELOW_THRESHOLD\", dataframe[\"actual_intent_correct\"])\n",
    "    matrix = confusion_matrix(dataframe[\"actual_intent_correct\"], dataframe[\"predicted_intent\"])\n",
    "    \n",
    "    lab1 = dataframe[\"actual_intent_correct\"].unique()\n",
    "    lab2 = dataframe[\"predicted_intent\"].unique()\n",
    "    lab = np.union1d(lab1,lab2)\n",
    "    \n",
    "    return matrix, lab\n",
    "\n",
    "matrix, lab = data_prep(data)\n",
    "\n",
    "def plot_confusion_matrix(cm, classes,\n",
    "                          normalize=False,\n",
    "                          title='Confusion matrix',\n",
    "                          cmap=plt.cm.RdPu):\n",
    "    \"\"\"\n",
    "    This function prints and plots the confusion matrix.\n",
    "    Normalization can be applied by setting `normalize=True`.\n",
    "    \"\"\"\n",
    "    if normalize:\n",
    "        cm = cm.astype('float') / cm.sum(axis=1)[:, np.newaxis]\n",
    "        print(\"Normalized confusion matrix for the Intent matching\")\n",
    "    else:\n",
    "        print('Confusion matrix for the Intent matching')\n",
    "\n",
    "    plt.imshow(cm, interpolation='nearest', cmap=cmap)\n",
    "    plt.title(title)\n",
    "    plt.colorbar()\n",
    "    tick_marks = np.arange(len(classes))\n",
    "    plt.xticks(tick_marks, classes, rotation=90)\n",
    "    plt.yticks(tick_marks, classes)\n",
    "\n",
    "    fmt = '.2f' if normalize else 'd'\n",
    "    thresh = cm.max() / 2.\n",
    "    for i, j in itertools.product(range(cm.shape[0]), range(cm.shape[1])):\n",
    "        plt.text(j, i, format(cm[i, j], fmt),\n",
    "                 horizontalalignment=\"center\",\n",
    "                 color=\"white\" if cm[i, j] > thresh else \"black\")\n",
    "\n",
    "    plt.ylabel('Actual Intent')\n",
    "    plt.xlabel('Predicted Intent')\n",
    "    plt.tight_layout()\n",
    "    plt.grid(False)\n",
    "    \n",
    "    return \n",
    "    \n",
    "plt.figure(figsize=(14,14))\n",
    "plot_confusion_matrix(matrix, classes=lab,\n",
    "                      title='Confusion matrix')\n",
    "\n"
   ]
  },
  {
   "cell_type": "markdown",
   "metadata": {},
   "source": [
    "### Collection of Metrics\n",
    "\n",
    "      \n",
    "1. **Accuracy** : In multilabel classification, this function computes subset accuracy, the set of labels predicted for a sample must exactly match the corresponding set of labels in _y_true_.\n",
    "2. **Precision** : The precision is the ratio _tp / (tp + fp)_ where tp is the number of _true positives_ and fp the number of _false positives_. The precision is intuitively the ability of the classifier not to label as positive a sample that is actually negative.\n",
    "3. **Recall** : The recall is the ratio _tp / (tp + fn)_ where tp is the number of _true positives_ and fn the number of _false negatives_. The recall is intuitively the ability of the classifier to find all positive samples. \n",
    "4. **F-score** : The F-beta score can be interpreted as a weighted harmonic mean of the precision and recall, where an F-beta score reaches its best value at 1 and worst score at 0. The F-beta score weighs recall more than precision by a factor of beta. A value of beta == 1.0 means recall and precision are equally important.\n",
    "\n",
    "[precision_recall_fscore_support function](http://scikit-learn.org/stable/modules/generated/sklearn.metrics.precision_recall_fscore_support.html#sklearn.metrics.precision_recall_fscore_support)"
   ]
  },
  {
   "cell_type": "code",
   "execution_count": 15,
   "metadata": {},
   "outputs": [
    {
     "name": "stdout",
     "output_type": "stream",
     "text": [
      "OVERALL RESULTS\n",
      "Accuracy: 0.6666666666666666\n",
      "Precision: 0.6666666666666666\n",
      "Recall: 0.6666666666666666\n",
      "FScore: 0.6666666666666666\n",
      "\n",
      "\n",
      "PER INTENT - DETAILED RESULTS\n",
      "                   precision    recall  f1-score   support\n",
      "\n",
      "  BELOW_THRESHOLD       0.00      0.00      0.00         1\n",
      "General_About_You       1.00      1.00      1.00         1\n",
      "   General_Ending       0.00      0.00      0.00         1\n",
      "         location       1.00      1.00      1.00         1\n",
      "          mission       1.00      1.00      1.00         1\n",
      "            pizza       1.00      1.00      1.00         1\n",
      "         toppings       0.00      0.00      0.00         0\n",
      "\n",
      "      avg / total       0.67      0.67      0.67         6\n",
      "\n"
     ]
    },
    {
     "name": "stderr",
     "output_type": "stream",
     "text": [
      "/Users/erikaagostinelli/anaconda3/lib/python3.6/site-packages/sklearn/metrics/classification.py:1135: UndefinedMetricWarning: Precision and F-score are ill-defined and being set to 0.0 in labels with no predicted samples.\n",
      "  'precision', 'predicted', average, warn_for)\n",
      "/Users/erikaagostinelli/anaconda3/lib/python3.6/site-packages/sklearn/metrics/classification.py:1137: UndefinedMetricWarning: Recall and F-score are ill-defined and being set to 0.0 in labels with no true samples.\n",
      "  'recall', 'true', average, warn_for)\n",
      "/Users/erikaagostinelli/anaconda3/lib/python3.6/site-packages/sklearn/metrics/classification.py:1135: UndefinedMetricWarning: Precision and F-score are ill-defined and being set to 0.0 in labels with no predicted samples.\n",
      "  'precision', 'predicted', average, warn_for)\n",
      "/Users/erikaagostinelli/anaconda3/lib/python3.6/site-packages/sklearn/metrics/classification.py:1137: UndefinedMetricWarning: Recall and F-score are ill-defined and being set to 0.0 in labels with no true samples.\n",
      "  'recall', 'true', average, warn_for)\n"
     ]
    }
   ],
   "source": [
    "print(\"OVERALL RESULTS\")\n",
    "accuracy = accuracy_score(data[\"actual_intent_correct\"], data[\"predicted_intent\"])\n",
    "print(\"Accuracy:\", accuracy)\n",
    "precision,recall,fscore,support=precision_recall_fscore_support(data[\"actual_intent_correct\"],\n",
    "                                                                data[\"predicted_intent\"],\n",
    "                                                                average='weighted')\n",
    "print(\"Precision:\", precision)\n",
    "print(\"Recall:\", recall)\n",
    "print(\"FScore:\", fscore)\n",
    "\n",
    "print(\"\\n\")\n",
    "print(\"PER INTENT - DETAILED RESULTS\")\n",
    "print(classification_report(data[\"actual_intent_correct\"], data[\"predicted_intent\"]))"
   ]
  },
  {
   "cell_type": "markdown",
   "metadata": {},
   "source": [
    "-------------------"
   ]
  },
  {
   "cell_type": "markdown",
   "metadata": {},
   "source": [
    "## Analyse the Incorrect Matches \n",
    "\n",
    "We have identified 3 types of different incorrect matches. \n",
    "1. **Incorrect intent was triggered with high confidence**: It is important to understand why the incorrect intent is sensitive to the testing phrase – an N-gram test can be helpful in such cases. This type of error has the priority, since it can have a bad influence on the chatbot’s performance.\n",
    "2. **Incorrect intent was triggered with low confidence** : Since those intents were triggered with low confidence, this error has less priority compared to problem (1). However, an incorrect intent was still detected. – an N-gram test can be helpful in such cases. Further, more training is necessary in order to boost the confidence level of the correct intent and resolving the conflicts between both intents.\n",
    "3. **Correct intent but with low confidence** : More training is needed in order to increase the confidence level of the correct intent."
   ]
  },
  {
   "cell_type": "markdown",
   "metadata": {},
   "source": [
    "### 1. Incorrect intent was triggered with high confidence "
   ]
  },
  {
   "cell_type": "code",
   "execution_count": 16,
   "metadata": {},
   "outputs": [
    {
     "name": "stdout",
     "output_type": "stream",
     "text": [
      "Detected: 2 samples\n",
      "File saved in 'results' - 01.wrong_intent_high_confidence.csv\n"
     ]
    }
   ],
   "source": [
    "incorrect1 = data.loc[(data[\"predicted_intent\"]!=data[\"actual_intent_correct\"])]\n",
    "if (len(incorrect1) == 0 ): \n",
    "    print (\"No issues found\")\n",
    "else: \n",
    "    print(\"Detected: {} samples\".format(len(incorrect1)))\n",
    "    incorrect1.to_csv('./results/multi_workspace/01.wrong_intent_high_confidence.csv', index = False)\n",
    "    print(\"File saved in 'results' - 01.wrong_intent_high_confidence.csv\")"
   ]
  },
  {
   "cell_type": "markdown",
   "metadata": {},
   "source": [
    "### 2. Incorrect intent was triggered with low confidence "
   ]
  },
  {
   "cell_type": "code",
   "execution_count": 17,
   "metadata": {},
   "outputs": [
    {
     "name": "stdout",
     "output_type": "stream",
     "text": [
      "Detected: 1 samples\n",
      "File saved in 'results' - 02.wrong_intent_low_confidence.csv\n"
     ]
    }
   ],
   "source": [
    "incorrect2 = data.loc[(data[\"correct_intent\"]==0)&[d.get('confidence')<threshold for d in data[\"max_confidence\"]]]\n",
    "if (len(incorrect2) == 0 ): \n",
    "    print (\"No issues found\")\n",
    "else: \n",
    "    print(\"Detected: {} samples\".format(len(incorrect2)))\n",
    "    incorrect2.to_csv('./results/multi_workspace/02.wrong_intent_low_confidence.csv', index = False)\n",
    "    print(\"File saved in 'results' - 02.wrong_intent_low_confidence.csv\")"
   ]
  },
  {
   "cell_type": "markdown",
   "metadata": {},
   "source": [
    "### 3. Correct intent was triggered but with low confidence "
   ]
  },
  {
   "cell_type": "code",
   "execution_count": 18,
   "metadata": {},
   "outputs": [
    {
     "name": "stdout",
     "output_type": "stream",
     "text": [
      "No issues found\n"
     ]
    }
   ],
   "source": [
    "incorrect3 = data.loc[(data[\"correct_intent\"]==1)&[d.get('confidence')<threshold for d in data[\"max_confidence\"]]]\n",
    "if (len(incorrect3) == 0 ): \n",
    "    print (\"No issues found\")\n",
    "else: \n",
    "    print(\"Detected: {} samples\".format(len(incorrect3)))\n",
    "    incorrect3.to_csv('./results/multi_workspace/03.correct_intent_low_confidence.csv', index = False)\n",
    "    print(\"File saved in 'results' - 03.correct_intent_low_confidence.csv\")"
   ]
  },
  {
   "cell_type": "markdown",
   "metadata": {},
   "source": [
    "## Improvement List\n",
    "\n",
    "- more analysis needed in \"Workspace Correctness\" "
   ]
  },
  {
   "cell_type": "markdown",
   "metadata": {},
   "source": [
    "------------------------------"
   ]
  },
  {
   "cell_type": "markdown",
   "metadata": {},
   "source": [
    "### Author: \n",
    "- **[Erika Agostinelli](https://www.linkedin.com/in/erikaagostinelli/)** is a Data Scientist and AI specialist part of IBM Data Science Elite Team where she specializes in Analytics platforms and Machine Learning solutions."
   ]
  },
  {
   "cell_type": "markdown",
   "metadata": {},
   "source": [
    "Copyright 2019 IBM Corp. All Rights Reserved."
   ]
  },
  {
   "cell_type": "code",
   "execution_count": null,
   "metadata": {},
   "outputs": [],
   "source": []
  }
 ],
 "metadata": {
  "kernelspec": {
   "display_name": "Python 3",
   "language": "python",
   "name": "python3"
  },
  "language_info": {
   "codemirror_mode": {
    "name": "ipython",
    "version": 3
   },
   "file_extension": ".py",
   "mimetype": "text/x-python",
   "name": "python",
   "nbconvert_exporter": "python",
   "pygments_lexer": "ipython3",
   "version": "3.7.3"
  }
 },
 "nbformat": 4,
 "nbformat_minor": 2
}
